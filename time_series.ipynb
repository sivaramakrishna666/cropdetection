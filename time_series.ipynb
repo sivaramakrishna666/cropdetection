{
 "cells": [
  {
   "cell_type": "code",
   "execution_count": 16,
   "id": "c3a495c0",
   "metadata": {},
   "outputs": [],
   "source": [
    "##import the primary librarys\n",
    "import pandas as pd\n",
    "import numpy as np\n",
    "import warnings\n",
    "warnings.filterwarnings(action='ignore')\n",
    "import matplotlib.pyplot as plt\n",
    "import seaborn as sns"
   ]
  },
  {
   "cell_type": "code",
   "execution_count": 24,
   "id": "ef6047f8",
   "metadata": {},
   "outputs": [],
   "source": [
    "\n",
    "data=pd.read_csv('CAWa_CropType_time-series.csv')"
   ]
  },
  {
   "cell_type": "code",
   "execution_count": 4,
   "id": "8761ef03",
   "metadata": {},
   "outputs": [
    {
     "data": {
      "text/html": [
       "<div>\n",
       "<style scoped>\n",
       "    .dataframe tbody tr th:only-of-type {\n",
       "        vertical-align: middle;\n",
       "    }\n",
       "\n",
       "    .dataframe tbody tr th {\n",
       "        vertical-align: top;\n",
       "    }\n",
       "\n",
       "    .dataframe thead th {\n",
       "        text-align: right;\n",
       "    }\n",
       "</style>\n",
       "<table border=\"1\" class=\"dataframe\">\n",
       "  <thead>\n",
       "    <tr style=\"text-align: right;\">\n",
       "      <th></th>\n",
       "      <th>1</th>\n",
       "      <th>17</th>\n",
       "      <th>33</th>\n",
       "      <th>49</th>\n",
       "      <th>65</th>\n",
       "      <th>81</th>\n",
       "      <th>97</th>\n",
       "      <th>113</th>\n",
       "      <th>129</th>\n",
       "      <th>145</th>\n",
       "      <th>...</th>\n",
       "      <th>209</th>\n",
       "      <th>225</th>\n",
       "      <th>241</th>\n",
       "      <th>257</th>\n",
       "      <th>273</th>\n",
       "      <th>289</th>\n",
       "      <th>305</th>\n",
       "      <th>321</th>\n",
       "      <th>337</th>\n",
       "      <th>353</th>\n",
       "    </tr>\n",
       "  </thead>\n",
       "  <tbody>\n",
       "    <tr>\n",
       "      <th>1179</th>\n",
       "      <td>0.369554</td>\n",
       "      <td>0.368068</td>\n",
       "      <td>0.308746</td>\n",
       "      <td>0.303223</td>\n",
       "      <td>0.342098</td>\n",
       "      <td>0.518992</td>\n",
       "      <td>0.685457</td>\n",
       "      <td>0.682361</td>\n",
       "      <td>0.616642</td>\n",
       "      <td>0.512034</td>\n",
       "      <td>...</td>\n",
       "      <td>0.525924</td>\n",
       "      <td>0.669930</td>\n",
       "      <td>0.640917</td>\n",
       "      <td>0.553100</td>\n",
       "      <td>0.366352</td>\n",
       "      <td>0.237644</td>\n",
       "      <td>0.152798</td>\n",
       "      <td>0.092783</td>\n",
       "      <td>0.056837</td>\n",
       "      <td>0.020890</td>\n",
       "    </tr>\n",
       "    <tr>\n",
       "      <th>1138</th>\n",
       "      <td>0.076210</td>\n",
       "      <td>0.064919</td>\n",
       "      <td>0.037145</td>\n",
       "      <td>0.046382</td>\n",
       "      <td>0.054262</td>\n",
       "      <td>0.084532</td>\n",
       "      <td>0.100908</td>\n",
       "      <td>0.158352</td>\n",
       "      <td>0.129709</td>\n",
       "      <td>0.110563</td>\n",
       "      <td>...</td>\n",
       "      <td>0.738896</td>\n",
       "      <td>0.777717</td>\n",
       "      <td>0.702988</td>\n",
       "      <td>0.492452</td>\n",
       "      <td>0.383409</td>\n",
       "      <td>0.313870</td>\n",
       "      <td>0.290002</td>\n",
       "      <td>0.238448</td>\n",
       "      <td>0.283200</td>\n",
       "      <td>0.302747</td>\n",
       "    </tr>\n",
       "    <tr>\n",
       "      <th>2134</th>\n",
       "      <td>NaN</td>\n",
       "      <td>NaN</td>\n",
       "      <td>NaN</td>\n",
       "      <td>NaN</td>\n",
       "      <td>NaN</td>\n",
       "      <td>NaN</td>\n",
       "      <td>NaN</td>\n",
       "      <td>NaN</td>\n",
       "      <td>0.938441</td>\n",
       "      <td>0.764749</td>\n",
       "      <td>...</td>\n",
       "      <td>0.175454</td>\n",
       "      <td>0.190503</td>\n",
       "      <td>0.828853</td>\n",
       "      <td>0.696541</td>\n",
       "      <td>0.599631</td>\n",
       "      <td>0.502559</td>\n",
       "      <td>0.405488</td>\n",
       "      <td>NaN</td>\n",
       "      <td>NaN</td>\n",
       "      <td>NaN</td>\n",
       "    </tr>\n",
       "    <tr>\n",
       "      <th>8281</th>\n",
       "      <td>0.304297</td>\n",
       "      <td>0.297338</td>\n",
       "      <td>0.314787</td>\n",
       "      <td>0.379184</td>\n",
       "      <td>0.459879</td>\n",
       "      <td>0.576628</td>\n",
       "      <td>0.597129</td>\n",
       "      <td>0.589516</td>\n",
       "      <td>0.568221</td>\n",
       "      <td>0.539654</td>\n",
       "      <td>...</td>\n",
       "      <td>0.609102</td>\n",
       "      <td>0.534743</td>\n",
       "      <td>0.488902</td>\n",
       "      <td>0.570975</td>\n",
       "      <td>0.590895</td>\n",
       "      <td>0.516573</td>\n",
       "      <td>0.417415</td>\n",
       "      <td>0.370462</td>\n",
       "      <td>0.347239</td>\n",
       "      <td>0.324015</td>\n",
       "    </tr>\n",
       "  </tbody>\n",
       "</table>\n",
       "<p>4 rows × 23 columns</p>\n",
       "</div>"
      ],
      "text/plain": [
       "             1        17        33        49        65        81        97  \\\n",
       "1179  0.369554  0.368068  0.308746  0.303223  0.342098  0.518992  0.685457   \n",
       "1138  0.076210  0.064919  0.037145  0.046382  0.054262  0.084532  0.100908   \n",
       "2134       NaN       NaN       NaN       NaN       NaN       NaN       NaN   \n",
       "8281  0.304297  0.297338  0.314787  0.379184  0.459879  0.576628  0.597129   \n",
       "\n",
       "           113       129       145  ...       209       225       241  \\\n",
       "1179  0.682361  0.616642  0.512034  ...  0.525924  0.669930  0.640917   \n",
       "1138  0.158352  0.129709  0.110563  ...  0.738896  0.777717  0.702988   \n",
       "2134       NaN  0.938441  0.764749  ...  0.175454  0.190503  0.828853   \n",
       "8281  0.589516  0.568221  0.539654  ...  0.609102  0.534743  0.488902   \n",
       "\n",
       "           257       273       289       305       321       337       353  \n",
       "1179  0.553100  0.366352  0.237644  0.152798  0.092783  0.056837  0.020890  \n",
       "1138  0.492452  0.383409  0.313870  0.290002  0.238448  0.283200  0.302747  \n",
       "2134  0.696541  0.599631  0.502559  0.405488       NaN       NaN       NaN  \n",
       "8281  0.570975  0.590895  0.516573  0.417415  0.370462  0.347239  0.324015  \n",
       "\n",
       "[4 rows x 23 columns]"
      ]
     },
     "execution_count": 4,
     "metadata": {},
     "output_type": "execute_result"
    }
   ],
   "source": [
    "data.sample(4)"
   ]
  },
  {
   "cell_type": "code",
   "execution_count": 5,
   "id": "bdcfb0fb",
   "metadata": {},
   "outputs": [
    {
     "data": {
      "text/plain": [
       "(8435, 23)"
      ]
     },
     "execution_count": 5,
     "metadata": {},
     "output_type": "execute_result"
    }
   ],
   "source": [
    "data.shape"
   ]
  },
  {
   "cell_type": "code",
   "execution_count": 36,
   "id": "17c15de7",
   "metadata": {},
   "outputs": [],
   "source": [
    "data[columns]=data[columns].fillna(data[columns].mean())"
   ]
  },
  {
   "cell_type": "code",
   "execution_count": 37,
   "id": "a3241cfe",
   "metadata": {},
   "outputs": [
    {
     "data": {
      "text/plain": [
       "1      0.0\n",
       "17     0.0\n",
       "33     0.0\n",
       "49     0.0\n",
       "65     0.0\n",
       "81     0.0\n",
       "97     0.0\n",
       "113    0.0\n",
       "129    0.0\n",
       "145    0.0\n",
       "161    0.0\n",
       "177    0.0\n",
       "193    0.0\n",
       "209    0.0\n",
       "225    0.0\n",
       "241    0.0\n",
       "257    0.0\n",
       "273    0.0\n",
       "289    0.0\n",
       "305    0.0\n",
       "321    0.0\n",
       "337    0.0\n",
       "353    0.0\n",
       "dtype: float64"
      ]
     },
     "execution_count": 37,
     "metadata": {},
     "output_type": "execute_result"
    }
   ],
   "source": [
    "data.isna().mean()*100"
   ]
  },
  {
   "cell_type": "code",
   "execution_count": 31,
   "id": "256a307c",
   "metadata": {},
   "outputs": [],
   "source": [
    "columns=data.columns.to_list()"
   ]
  },
  {
   "cell_type": "code",
   "execution_count": 38,
   "id": "0d6bb2af",
   "metadata": {},
   "outputs": [
    {
     "data": {
      "text/html": [
       "<div>\n",
       "<style scoped>\n",
       "    .dataframe tbody tr th:only-of-type {\n",
       "        vertical-align: middle;\n",
       "    }\n",
       "\n",
       "    .dataframe tbody tr th {\n",
       "        vertical-align: top;\n",
       "    }\n",
       "\n",
       "    .dataframe thead th {\n",
       "        text-align: right;\n",
       "    }\n",
       "</style>\n",
       "<table border=\"1\" class=\"dataframe\">\n",
       "  <thead>\n",
       "    <tr style=\"text-align: right;\">\n",
       "      <th></th>\n",
       "      <th>1</th>\n",
       "      <th>17</th>\n",
       "      <th>33</th>\n",
       "      <th>49</th>\n",
       "      <th>65</th>\n",
       "      <th>81</th>\n",
       "      <th>97</th>\n",
       "      <th>113</th>\n",
       "      <th>129</th>\n",
       "      <th>145</th>\n",
       "      <th>...</th>\n",
       "      <th>209</th>\n",
       "      <th>225</th>\n",
       "      <th>241</th>\n",
       "      <th>257</th>\n",
       "      <th>273</th>\n",
       "      <th>289</th>\n",
       "      <th>305</th>\n",
       "      <th>321</th>\n",
       "      <th>337</th>\n",
       "      <th>353</th>\n",
       "    </tr>\n",
       "  </thead>\n",
       "  <tbody>\n",
       "    <tr>\n",
       "      <th>4897</th>\n",
       "      <td>0.097924</td>\n",
       "      <td>0.094020</td>\n",
       "      <td>0.098795</td>\n",
       "      <td>0.102401</td>\n",
       "      <td>0.106007</td>\n",
       "      <td>0.093680</td>\n",
       "      <td>0.112969</td>\n",
       "      <td>0.125995</td>\n",
       "      <td>0.182436</td>\n",
       "      <td>0.186812</td>\n",
       "      <td>...</td>\n",
       "      <td>0.764263</td>\n",
       "      <td>0.745882</td>\n",
       "      <td>0.714089</td>\n",
       "      <td>0.558485</td>\n",
       "      <td>0.455644</td>\n",
       "      <td>0.387366</td>\n",
       "      <td>0.310505</td>\n",
       "      <td>0.320285</td>\n",
       "      <td>0.281931</td>\n",
       "      <td>0.211499</td>\n",
       "    </tr>\n",
       "    <tr>\n",
       "      <th>7230</th>\n",
       "      <td>0.193168</td>\n",
       "      <td>0.186573</td>\n",
       "      <td>0.126123</td>\n",
       "      <td>0.154597</td>\n",
       "      <td>0.178636</td>\n",
       "      <td>0.199143</td>\n",
       "      <td>0.277396</td>\n",
       "      <td>0.321595</td>\n",
       "      <td>0.356935</td>\n",
       "      <td>0.913804</td>\n",
       "      <td>...</td>\n",
       "      <td>0.104387</td>\n",
       "      <td>0.048477</td>\n",
       "      <td>0.261999</td>\n",
       "      <td>0.306599</td>\n",
       "      <td>0.685523</td>\n",
       "      <td>0.064561</td>\n",
       "      <td>-0.025288</td>\n",
       "      <td>-0.045310</td>\n",
       "      <td>0.055162</td>\n",
       "      <td>0.155635</td>\n",
       "    </tr>\n",
       "  </tbody>\n",
       "</table>\n",
       "<p>2 rows × 23 columns</p>\n",
       "</div>"
      ],
      "text/plain": [
       "             1        17        33        49        65        81        97  \\\n",
       "4897  0.097924  0.094020  0.098795  0.102401  0.106007  0.093680  0.112969   \n",
       "7230  0.193168  0.186573  0.126123  0.154597  0.178636  0.199143  0.277396   \n",
       "\n",
       "           113       129       145  ...       209       225       241  \\\n",
       "4897  0.125995  0.182436  0.186812  ...  0.764263  0.745882  0.714089   \n",
       "7230  0.321595  0.356935  0.913804  ...  0.104387  0.048477  0.261999   \n",
       "\n",
       "           257       273       289       305       321       337       353  \n",
       "4897  0.558485  0.455644  0.387366  0.310505  0.320285  0.281931  0.211499  \n",
       "7230  0.306599  0.685523  0.064561 -0.025288 -0.045310  0.055162  0.155635  \n",
       "\n",
       "[2 rows x 23 columns]"
      ]
     },
     "execution_count": 38,
     "metadata": {},
     "output_type": "execute_result"
    }
   ],
   "source": [
    "data.sample(2)"
   ]
  },
  {
   "cell_type": "code",
   "execution_count": 39,
   "id": "18d663af",
   "metadata": {},
   "outputs": [],
   "source": [
    "data['label']=225"
   ]
  },
  {
   "cell_type": "code",
   "execution_count": 40,
   "id": "8c626c6d",
   "metadata": {},
   "outputs": [],
   "source": [
    "labels=data.iloc[:,-1]"
   ]
  },
  {
   "cell_type": "code",
   "execution_count": 43,
   "id": "7404bfad",
   "metadata": {},
   "outputs": [],
   "source": [
    "data=data.drop('label',axis=1)"
   ]
  },
  {
   "cell_type": "code",
   "execution_count": 44,
   "id": "f4969005",
   "metadata": {},
   "outputs": [
    {
     "data": {
      "text/plain": [
       "(8435, 23)"
      ]
     },
     "execution_count": 44,
     "metadata": {},
     "output_type": "execute_result"
    }
   ],
   "source": [
    "data.shape"
   ]
  },
  {
   "cell_type": "code",
   "execution_count": 11,
   "id": "3cb61304",
   "metadata": {},
   "outputs": [
    {
     "data": {
      "text/plain": [
       "<matplotlib.image.AxesImage at 0x161ecf44520>"
      ]
     },
     "execution_count": 11,
     "metadata": {},
     "output_type": "execute_result"
    },
    {
     "data": {
      "image/png": "[encoded data removed]",
      "text/plain": [
       "<Figure size 432x288 with 1 Axes>"
      ]
     },
     "metadata": {
      "needs_background": "light"
     },
     "output_type": "display_data"
    }
   ],
   "source": [
    "plt.imshow(data_1[10],cmap=plt.get_cmap('gray'))"
   ]
  },
  {
   "cell_type": "code",
   "execution_count": 57,
   "id": "fbfd612d",
   "metadata": {},
   "outputs": [],
   "source": [
    "import tensorflow\n",
    "import keras\n",
    "from tensorflow.keras import layers,Sequential\n",
    "from tensorflow.keras.layers import Dense,Activation,Conv1D,MaxPooling1D,Flatten,Dropout\n",
    "from tensorflow.keras.optimizers import SGD"
   ]
  },
  {
   "cell_type": "code",
   "execution_count": 58,
   "id": "fb2847c2",
   "metadata": {},
   "outputs": [
    {
     "data": {
      "text/plain": [
       "(8435, 23)"
      ]
     },
     "execution_count": 58,
     "metadata": {},
     "output_type": "execute_result"
    }
   ],
   "source": [
    "data.shape"
   ]
  },
  {
   "cell_type": "code",
   "execution_count": null,
   "id": "4983b0d5",
   "metadata": {},
   "outputs": [],
   "source": []
  },
  {
   "cell_type": "code",
   "execution_count": null,
   "id": "d0c16d61",
   "metadata": {},
   "outputs": [],
   "source": []
  },
  {
   "cell_type": "code",
   "execution_count": 46,
   "id": "50ae3562",
   "metadata": {},
   "outputs": [],
   "source": [
    "from sklearn.model_selection import train_test_split\n",
    "from sklearn.preprocessing import LabelEncoder\n",
    "\n"
   ]
  },
  {
   "cell_type": "code",
   "execution_count": 47,
   "id": "256326cd",
   "metadata": {},
   "outputs": [],
   "source": [
    "encoder=LabelEncoder()\n",
    "encoder.fit(labels)\n",
    "y_=encoder.transform(labels)\n",
    "dummy_y=keras.utils.to_categorical(y_,num_classes=6)"
   ]
  },
  {
   "cell_type": "code",
   "execution_count": 78,
   "id": "30bb7d03",
   "metadata": {},
   "outputs": [],
   "source": [
    "X_train,X_test,y_train,y_test=train_test_split(data,dummy_y,test_size=0.1,random_state=42,shuffle=True)"
   ]
  },
  {
   "cell_type": "code",
   "execution_count": 79,
   "id": "e024ce2d",
   "metadata": {},
   "outputs": [],
   "source": [
    "from sklearn.preprocessing import StandardScaler\n",
    "sc_X = StandardScaler()\n",
    "X_train = sc_X.fit_transform(X_train)\n",
    "X_test = sc_X.transform(X_test)"
   ]
  },
  {
   "cell_type": "code",
   "execution_count": null,
   "id": "6c595165",
   "metadata": {},
   "outputs": [],
   "source": []
  },
  {
   "cell_type": "code",
   "execution_count": 56,
   "id": "4c745940",
   "metadata": {},
   "outputs": [],
   "source": [
    "seed=7\n",
    "np.random.seed(seed)"
   ]
  },
  {
   "cell_type": "code",
   "execution_count": 63,
   "id": "ca3dbc57",
   "metadata": {},
   "outputs": [
    {
     "name": "stdout",
     "output_type": "stream",
     "text": [
      "Model: \"sequential_2\"\n",
      "_________________________________________________________________\n",
      " Layer (type)                Output Shape              Param #   \n",
      "=================================================================\n",
      " dense_4 (Dense)             (None, 250)               6000      \n",
      "                                                                 \n",
      " dropout_3 (Dropout)         (None, 250)               0         \n",
      "                                                                 \n",
      " dense_5 (Dense)             (None, 150)               37650     \n",
      "                                                                 \n",
      " dropout_4 (Dropout)         (None, 150)               0         \n",
      "                                                                 \n",
      " dense_6 (Dense)             (None, 6)                 906       \n",
      "                                                                 \n",
      "=================================================================\n",
      "Total params: 44,556\n",
      "Trainable params: 44,556\n",
      "Non-trainable params: 0\n",
      "_________________________________________________________________\n"
     ]
    }
   ],
   "source": [
    "model=Sequential()\n",
    "model.add(Dense(250,activation='relu',input_shape=(23,)))\n",
    "model.add(Dropout(0.5))\n",
    "model.add(Dense(150,activation='relu'))\n",
    "model.add(Dropout(0.5))\n",
    "model.add(Dense(6,activation='softmax'))\n",
    "model.summary()"
   ]
  },
  {
   "cell_type": "code",
   "execution_count": null,
   "id": "64162c07",
   "metadata": {},
   "outputs": [],
   "source": []
  },
  {
   "cell_type": "code",
   "execution_count": 70,
   "id": "b69d6f42",
   "metadata": {},
   "outputs": [],
   "source": [
    "opt=keras.optimizers.Adadelta()\n",
    "model.compile(loss='categorical_crossentropy',optimizer=opt,metrics=['accuracy'])"
   ]
  },
  {
   "cell_type": "code",
   "execution_count": 80,
   "id": "6084fd79",
   "metadata": {},
   "outputs": [
    {
     "data": {
      "text/plain": [
       "(7591, 23)"
      ]
     },
     "execution_count": 80,
     "metadata": {},
     "output_type": "execute_result"
    }
   ],
   "source": [
    "X_train.shape"
   ]
  },
  {
   "cell_type": "code",
   "execution_count": null,
   "id": "6d0a0346",
   "metadata": {},
   "outputs": [],
   "source": []
  },
  {
   "cell_type": "code",
   "execution_count": 83,
   "id": "ebfc9ded",
   "metadata": {},
   "outputs": [
    {
     "name": "stdout",
     "output_type": "stream",
     "text": [
      "27/27 [==============================] - 0s 1ms/step\n"
     ]
    }
   ],
   "source": [
    "y_pre=model.predict(X_test)"
   ]
  },
  {
   "cell_type": "code",
   "execution_count": 126,
   "id": "0330960c",
   "metadata": {},
   "outputs": [
    {
     "name": "stdout",
     "output_type": "stream",
     "text": [
      "(None, 23, 1)\n",
      "(None, 18, 32)\n",
      "(None, 23, 1)\n",
      "(None, 9, 32)\n",
      "(None, 23, 1)\n",
      "(None, 2, 64)\n",
      "(None, 128)\n",
      "(None, 200)\n",
      "(None, 150)\n",
      "######outptshape####\n",
      "(None, 6)\n"
     ]
    }
   ],
   "source": [
    "n_clases=6\n",
    "model2=Sequential()\n",
    "model2.add(Conv1D(kernel_size= n_clases, strides=1,filters= 32, activation='relu',input_shape=(23,1)))\n",
    "print(model2.input_shape)\n",
    "print(model2.output_shape)\n",
    "model2.add(MaxPooling1D(pool_size=(2),strides=(2)))\n",
    "print(model2.input_shape)\n",
    "print(model2.output_shape)\n",
    "model2.add(Conv1D(kernel_size= n_clases, strides=1, filters=64, activation='relu'))\n",
    "model2.add(MaxPooling1D(pool_size= (2),strides=(2)))\n",
    "print(model2.input_shape)\n",
    "print(model2.output_shape)\n",
    "model2.add(Flatten())\n",
    "print(model2.output_shape)\n",
    "\n",
    "model2.add(Dense(200,activation='relu'))\n",
    "print(model2.output_shape)\n",
    "\n",
    "model2.add(Dense(150,activation='relu'))\n",
    "print(model2.output_shape)\n",
    "print('######outptshape####')\n",
    "model2.add(Dense(n_clases,activation='softmax'))\n",
    "print(model2.output_shape)\n"
   ]
  },
  {
   "cell_type": "code",
   "execution_count": null,
   "id": "445e2287",
   "metadata": {},
   "outputs": [],
   "source": []
  },
  {
   "cell_type": "code",
   "execution_count": 142,
   "id": "de6dfc03",
   "metadata": {},
   "outputs": [],
   "source": [
    "####compile#\n",
    "model2.compile(loss='categorical_crossentropy',optimizer=keras.optimizers.RMSprop(0.01),metrics=['accuracy'])"
   ]
  },
  {
   "cell_type": "code",
   "execution_count": null,
   "id": "c6523cd8",
   "metadata": {},
   "outputs": [],
   "source": []
  },
  {
   "cell_type": "code",
   "execution_count": null,
   "id": "91648ff2",
   "metadata": {},
   "outputs": [],
   "source": []
  },
  {
   "cell_type": "code",
   "execution_count": null,
   "id": "2215ec6d",
   "metadata": {},
   "outputs": [],
   "source": []
  },
  {
   "cell_type": "code",
   "execution_count": 123,
   "id": "61c3db5f",
   "metadata": {},
   "outputs": [],
   "source": [
    "X1=np.expand_dims(X_train,axis=2)"
   ]
  },
  {
   "cell_type": "code",
   "execution_count": 125,
   "id": "8f5ae7a0",
   "metadata": {},
   "outputs": [
    {
     "data": {
      "text/plain": [
       "((7591, 23, 1), (7591, 6))"
      ]
     },
     "execution_count": 125,
     "metadata": {},
     "output_type": "execute_result"
    }
   ],
   "source": [
    "X1.shape,y_train.shape"
   ]
  },
  {
   "cell_type": "code",
   "execution_count": 143,
   "id": "ec1ae714",
   "metadata": {},
   "outputs": [
    {
     "name": "stdout",
     "output_type": "stream",
     "text": [
      "Epoch 1/10\n",
      "76/76 [==============================] - 1s 6ms/step - loss: 0.0000e+00 - accuracy: 1.0000\n",
      "Epoch 2/10\n",
      "76/76 [==============================] - 0s 5ms/step - loss: 0.0000e+00 - accuracy: 1.0000\n",
      "Epoch 3/10\n",
      "76/76 [==============================] - 0s 4ms/step - loss: 0.0000e+00 - accuracy: 1.0000\n",
      "Epoch 4/10\n",
      "76/76 [==============================] - 0s 6ms/step - loss: 0.0000e+00 - accuracy: 1.0000\n",
      "Epoch 5/10\n",
      "76/76 [==============================] - 0s 5ms/step - loss: 0.0000e+00 - accuracy: 1.0000\n",
      "Epoch 6/10\n",
      "76/76 [==============================] - 0s 5ms/step - loss: 0.0000e+00 - accuracy: 1.0000\n",
      "Epoch 7/10\n",
      "76/76 [==============================] - 0s 6ms/step - loss: 0.0000e+00 - accuracy: 1.0000\n",
      "Epoch 8/10\n",
      "76/76 [==============================] - 0s 5ms/step - loss: 0.0000e+00 - accuracy: 1.0000\n",
      "Epoch 9/10\n",
      "76/76 [==============================] - 0s 5ms/step - loss: 0.0000e+00 - accuracy: 1.0000\n",
      "Epoch 10/10\n",
      "76/76 [==============================] - 0s 6ms/step - loss: 0.0000e+00 - accuracy: 1.0000\n"
     ]
    },
    {
     "data": {
      "text/plain": [
       "<keras.callbacks.History at 0x16189db5df0>"
      ]
     },
     "execution_count": 143,
     "metadata": {},
     "output_type": "execute_result"
    }
   ],
   "source": [
    "model2.fit(X1,y_train, epochs=10, batch_size=100)"
   ]
  },
  {
   "cell_type": "code",
   "execution_count": 144,
   "id": "6e4bc035",
   "metadata": {},
   "outputs": [
    {
     "name": "stdout",
     "output_type": "stream",
     "text": [
      "27/27 [==============================] - 0s 3ms/step - loss: 0.0000e+00 - accuracy: 1.0000\n"
     ]
    },
    {
     "data": {
      "text/plain": [
       "[0.0, 1.0]"
      ]
     },
     "execution_count": 144,
     "metadata": {},
     "output_type": "execute_result"
    }
   ],
   "source": [
    "model2.evaluate(X_test,y_test)"
   ]
  },
  {
   "cell_type": "code",
   "execution_count": 145,
   "id": "bee05513",
   "metadata": {},
   "outputs": [],
   "source": [
    "X2=np.expand_dims(X_test,axis=2)"
   ]
  },
  {
   "cell_type": "code",
   "execution_count": 146,
   "id": "aa807b26",
   "metadata": {},
   "outputs": [
    {
     "name": "stdout",
     "output_type": "stream",
     "text": [
      "27/27 [==============================] - 0s 2ms/step\n"
     ]
    }
   ],
   "source": [
    "y_predict=model2.predict(X2)"
   ]
  },
  {
   "cell_type": "code",
   "execution_count": null,
   "id": "c78409ee",
   "metadata": {},
   "outputs": [],
   "source": []
  },
  {
   "cell_type": "code",
   "execution_count": null,
   "id": "a2eefecd",
   "metadata": {},
   "outputs": [],
   "source": []
  },
  {
   "cell_type": "code",
   "execution_count": null,
   "id": "7ead7a84",
   "metadata": {},
   "outputs": [],
   "source": []
  },
  {
   "cell_type": "code",
   "execution_count": null,
   "id": "b9d3aa90",
   "metadata": {},
   "outputs": [],
   "source": []
  },
  {
   "cell_type": "code",
   "execution_count": null,
   "id": "f4d27051",
   "metadata": {},
   "outputs": [],
   "source": []
  },
  {
   "cell_type": "code",
   "execution_count": null,
   "id": "c0d00b10",
   "metadata": {},
   "outputs": [],
   "source": []
  },
  {
   "cell_type": "code",
   "execution_count": null,
   "id": "25228991",
   "metadata": {},
   "outputs": [],
   "source": []
  },
  {
   "cell_type": "code",
   "execution_count": null,
   "id": "ef1974e5",
   "metadata": {},
   "outputs": [],
   "source": []
  },
  {
   "cell_type": "code",
   "execution_count": null,
   "id": "6c0b2953",
   "metadata": {},
   "outputs": [],
   "source": []
  },
  {
   "cell_type": "code",
   "execution_count": null,
   "id": "67c7bece",
   "metadata": {},
   "outputs": [],
   "source": []
  },
  {
   "cell_type": "code",
   "execution_count": null,
   "id": "b4884b30",
   "metadata": {},
   "outputs": [],
   "source": []
  },
  {
   "cell_type": "code",
   "execution_count": null,
   "id": "9a2b040c",
   "metadata": {},
   "outputs": [],
   "source": []
  },
  {
   "cell_type": "code",
   "execution_count": null,
   "id": "d532588a",
   "metadata": {},
   "outputs": [],
   "source": []
  },
  {
   "cell_type": "code",
   "execution_count": null,
   "id": "9a9c1380",
   "metadata": {},
   "outputs": [],
   "source": []
  },
  {
   "cell_type": "code",
   "execution_count": null,
   "id": "4daad10d",
   "metadata": {},
   "outputs": [],
   "source": []
  },
  {
   "cell_type": "code",
   "execution_count": null,
   "id": "f4f09a33",
   "metadata": {},
   "outputs": [],
   "source": []
  },
  {
   "cell_type": "code",
   "execution_count": null,
   "id": "1c8c10ca",
   "metadata": {},
   "outputs": [],
   "source": []
  },
  {
   "cell_type": "code",
   "execution_count": null,
   "id": "1cd34505",
   "metadata": {},
   "outputs": [],
   "source": []
  },
  {
   "cell_type": "code",
   "execution_count": null,
   "id": "7d770fb3",
   "metadata": {},
   "outputs": [],
   "source": []
  },
  {
   "cell_type": "code",
   "execution_count": null,
   "id": "91b37ba5",
   "metadata": {},
   "outputs": [],
   "source": []
  },
  {
   "cell_type": "code",
   "execution_count": null,
   "id": "358369eb",
   "metadata": {},
   "outputs": [],
   "source": []
  },
  {
   "cell_type": "code",
   "execution_count": null,
   "id": "6631c2fc",
   "metadata": {},
   "outputs": [],
   "source": []
  },
  {
   "cell_type": "code",
   "execution_count": null,
   "id": "09abe5b4",
   "metadata": {},
   "outputs": [],
   "source": []
  },
  {
   "cell_type": "code",
   "execution_count": null,
   "id": "bc8b7407",
   "metadata": {},
   "outputs": [],
   "source": []
  },
  {
   "cell_type": "code",
   "execution_count": null,
   "id": "c0353a32",
   "metadata": {},
   "outputs": [],
   "source": []
  },
  {
   "cell_type": "code",
   "execution_count": null,
   "id": "4575c8e3",
   "metadata": {},
   "outputs": [],
   "source": []
  },
  {
   "cell_type": "code",
   "execution_count": null,
   "id": "9e3db36d",
   "metadata": {},
   "outputs": [],
   "source": []
  },
  {
   "cell_type": "code",
   "execution_count": null,
   "id": "6cc52d27",
   "metadata": {},
   "outputs": [],
   "source": []
  },
  {
   "cell_type": "code",
   "execution_count": null,
   "id": "01e3e21f",
   "metadata": {},
   "outputs": [],
   "source": []
  },
  {
   "cell_type": "code",
   "execution_count": null,
   "id": "73ee5463",
   "metadata": {},
   "outputs": [],
   "source": []
  },
  {
   "cell_type": "code",
   "execution_count": null,
   "id": "0992f7f8",
   "metadata": {},
   "outputs": [],
   "source": []
  },
  {
   "cell_type": "code",
   "execution_count": null,
   "id": "3af7639d",
   "metadata": {},
   "outputs": [],
   "source": []
  },
  {
   "cell_type": "code",
   "execution_count": null,
   "id": "587ac695",
   "metadata": {},
   "outputs": [],
   "source": []
  },
  {
   "cell_type": "code",
   "execution_count": null,
   "id": "1896b49f",
   "metadata": {},
   "outputs": [],
   "source": []
  },
  {
   "cell_type": "code",
   "execution_count": null,
   "id": "476cdde7",
   "metadata": {},
   "outputs": [],
   "source": []
  },
  {
   "cell_type": "code",
   "execution_count": null,
   "id": "a542cc57",
   "metadata": {},
   "outputs": [],
   "source": []
  },
  {
   "cell_type": "code",
   "execution_count": null,
   "id": "2e7fbd94",
   "metadata": {},
   "outputs": [],
   "source": []
  },
  {
   "cell_type": "code",
   "execution_count": null,
   "id": "59d2d51a",
   "metadata": {},
   "outputs": [],
   "source": []
  },
  {
   "cell_type": "code",
   "execution_count": null,
   "id": "babd0d2a",
   "metadata": {},
   "outputs": [],
   "source": []
  },
  {
   "cell_type": "code",
   "execution_count": null,
   "id": "e189c1bd",
   "metadata": {},
   "outputs": [],
   "source": []
  },
  {
   "cell_type": "code",
   "execution_count": null,
   "id": "cfdd252b",
   "metadata": {},
   "outputs": [],
   "source": []
  },
  {
   "cell_type": "code",
   "execution_count": null,
   "id": "e11eaec4",
   "metadata": {},
   "outputs": [],
   "source": []
  },
  {
   "cell_type": "code",
   "execution_count": null,
   "id": "e84dd5af",
   "metadata": {},
   "outputs": [],
   "source": []
  },
  {
   "cell_type": "code",
   "execution_count": null,
   "id": "f29635d4",
   "metadata": {},
   "outputs": [],
   "source": []
  },
  {
   "cell_type": "code",
   "execution_count": null,
   "id": "23957699",
   "metadata": {},
   "outputs": [],
   "source": []
  },
  {
   "cell_type": "code",
   "execution_count": null,
   "id": "24ce4161",
   "metadata": {},
   "outputs": [],
   "source": []
  },
  {
   "cell_type": "code",
   "execution_count": null,
   "id": "e6171fce",
   "metadata": {},
   "outputs": [],
   "source": []
  },
  {
   "cell_type": "code",
   "execution_count": null,
   "id": "b07e8d2a",
   "metadata": {},
   "outputs": [],
   "source": []
  },
  {
   "cell_type": "code",
   "execution_count": null,
   "id": "ab322c6b",
   "metadata": {},
   "outputs": [],
   "source": []
  },
  {
   "cell_type": "code",
   "execution_count": null,
   "id": "6943803a",
   "metadata": {},
   "outputs": [],
   "source": []
  },
  {
   "cell_type": "code",
   "execution_count": null,
   "id": "ff6177c3",
   "metadata": {},
   "outputs": [],
   "source": []
  },
  {
   "cell_type": "code",
   "execution_count": null,
   "id": "e2315308",
   "metadata": {},
   "outputs": [],
   "source": []
  },
  {
   "cell_type": "code",
   "execution_count": null,
   "id": "a1be5202",
   "metadata": {},
   "outputs": [],
   "source": []
  },
  {
   "cell_type": "code",
   "execution_count": null,
   "id": "4c590eb4",
   "metadata": {},
   "outputs": [],
   "source": []
  },
  {
   "cell_type": "code",
   "execution_count": null,
   "id": "2d10505b",
   "metadata": {},
   "outputs": [],
   "source": []
  },
  {
   "cell_type": "code",
   "execution_count": 81,
   "id": "8e78ba4d",
   "metadata": {},
   "outputs": [
    {
     "name": "stdout",
     "output_type": "stream",
     "text": [
      "Epoch 1/5\n",
      "76/76 - 0s - loss: 0.0737 - accuracy: 0.9996 - 398ms/epoch - 5ms/step\n",
      "Epoch 2/5\n",
      "76/76 - 0s - loss: 0.0731 - accuracy: 0.9996 - 285ms/epoch - 4ms/step\n",
      "Epoch 3/5\n",
      "76/76 - 0s - loss: 0.0699 - accuracy: 0.9997 - 264ms/epoch - 3ms/step\n",
      "Epoch 4/5\n",
      "76/76 - 0s - loss: 0.0708 - accuracy: 0.9996 - 223ms/epoch - 3ms/step\n",
      "Epoch 5/5\n",
      "76/76 - 0s - loss: 0.0690 - accuracy: 0.9999 - 238ms/epoch - 3ms/step\n"
     ]
    },
    {
     "data": {
      "text/plain": [
       "<keras.callbacks.History at 0x161805b61c0>"
      ]
     },
     "execution_count": 81,
     "metadata": {},
     "output_type": "execute_result"
    }
   ],
   "source": [
    "model.fit(X_train,y_train,epochs=5,batch_size=100,verbose=2)"
   ]
  },
  {
   "cell_type": "code",
   "execution_count": null,
   "id": "73db2aab",
   "metadata": {},
   "outputs": [],
   "source": []
  },
  {
   "cell_type": "code",
   "execution_count": null,
   "id": "2974427c",
   "metadata": {},
   "outputs": [],
   "source": []
  },
  {
   "cell_type": "code",
   "execution_count": 82,
   "id": "f7eb9846",
   "metadata": {},
   "outputs": [
    {
     "name": "stdout",
     "output_type": "stream",
     "text": [
      "9/9 [==============================] - 0s 2ms/step - loss: 0.0771 - accuracy: 1.0000\n"
     ]
    }
   ],
   "source": [
    "score=model.evaluate(X_test,y_test,batch_size=100)"
   ]
  },
  {
   "cell_type": "code",
   "execution_count": null,
   "id": "9d5ed19b",
   "metadata": {},
   "outputs": [],
   "source": []
  },
  {
   "cell_type": "code",
   "execution_count": null,
   "id": "b91d56c5",
   "metadata": {},
   "outputs": [],
   "source": []
  },
  {
   "cell_type": "code",
   "execution_count": null,
   "id": "490483bd",
   "metadata": {},
   "outputs": [],
   "source": []
  },
  {
   "cell_type": "code",
   "execution_count": null,
   "id": "26c8d419",
   "metadata": {},
   "outputs": [],
   "source": []
  },
  {
   "cell_type": "code",
   "execution_count": null,
   "id": "530fd9e1",
   "metadata": {},
   "outputs": [],
   "source": []
  },
  {
   "cell_type": "code",
   "execution_count": null,
   "id": "7cd15063",
   "metadata": {},
   "outputs": [],
   "source": []
  },
  {
   "cell_type": "code",
   "execution_count": null,
   "id": "d9c66eca",
   "metadata": {},
   "outputs": [],
   "source": []
  },
  {
   "cell_type": "code",
   "execution_count": null,
   "id": "347ff599",
   "metadata": {},
   "outputs": [],
   "source": []
  },
  {
   "cell_type": "code",
   "execution_count": null,
   "id": "be72b7ec",
   "metadata": {},
   "outputs": [],
   "source": []
  },
  {
   "cell_type": "code",
   "execution_count": null,
   "id": "09310817",
   "metadata": {},
   "outputs": [],
   "source": []
  },
  {
   "cell_type": "code",
   "execution_count": null,
   "id": "db14d5b1",
   "metadata": {},
   "outputs": [],
   "source": []
  },
  {
   "cell_type": "code",
   "execution_count": null,
   "id": "f30f53fc",
   "metadata": {},
   "outputs": [],
   "source": []
  },
  {
   "cell_type": "code",
   "execution_count": null,
   "id": "82370a6d",
   "metadata": {},
   "outputs": [],
   "source": []
  },
  {
   "cell_type": "code",
   "execution_count": null,
   "id": "b9eeebff",
   "metadata": {},
   "outputs": [],
   "source": []
  },
  {
   "cell_type": "code",
   "execution_count": null,
   "id": "59abb7dd",
   "metadata": {},
   "outputs": [],
   "source": []
  },
  {
   "cell_type": "code",
   "execution_count": null,
   "id": "eb29b234",
   "metadata": {},
   "outputs": [],
   "source": []
  },
  {
   "cell_type": "code",
   "execution_count": null,
   "id": "18465852",
   "metadata": {},
   "outputs": [],
   "source": []
  }
 ],
 "metadata": {
  "kernelspec": {
   "display_name": "Python 3 (ipykernel)",
   "language": "python",
   "name": "python3"
  },
  "language_info": {
   "codemirror_mode": {
    "name": "ipython",
    "version": 3
   },
   "file_extension": ".py",
   "mimetype": "text/x-python",
   "name": "python",
   "nbconvert_exporter": "python",
   "pygments_lexer": "ipython3",
   "version": "3.9.7"
  }
 },
 "nbformat": 4,
 "nbformat_minor": 5
}
