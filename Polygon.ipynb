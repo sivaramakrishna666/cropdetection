{
 "cells": [
  {
   "cell_type": "code",
   "execution_count": 1,
   "id": "fce5e823",
   "metadata": {},
   "outputs": [],
   "source": [
    "###import the primary librarys\n",
    "import pandas as pd\n",
    "import numpy as np\n",
    "import matplotlib.pyplot as plt\n",
    "import seaborn as sns"
   ]
  },
  {
   "cell_type": "code",
   "execution_count": 2,
   "id": "a5d4ead5",
   "metadata": {},
   "outputs": [],
   "source": [
    "df=pd.read_csv('polygon.csv')"
   ]
  },
  {
   "cell_type": "code",
   "execution_count": 3,
   "id": "12db0e94",
   "metadata": {},
   "outputs": [
    {
     "data": {
      "text/html": [
       "<div>\n",
       "<style scoped>\n",
       "    .dataframe tbody tr th:only-of-type {\n",
       "        vertical-align: middle;\n",
       "    }\n",
       "\n",
       "    .dataframe tbody tr th {\n",
       "        vertical-align: top;\n",
       "    }\n",
       "\n",
       "    .dataframe thead th {\n",
       "        text-align: right;\n",
       "    }\n",
       "</style>\n",
       "<table border=\"1\" class=\"dataframe\">\n",
       "  <thead>\n",
       "    <tr style=\"text-align: right;\">\n",
       "      <th></th>\n",
       "      <th>x</th>\n",
       "      <th>y</th>\n",
       "      <th>min.cover</th>\n",
       "      <th>max.cover</th>\n",
       "      <th>mean.cover</th>\n",
       "      <th>count</th>\n",
       "    </tr>\n",
       "  </thead>\n",
       "  <tbody>\n",
       "    <tr>\n",
       "      <th>0</th>\n",
       "      <td>6.048663e+06</td>\n",
       "      <td>4.502820e+06</td>\n",
       "      <td>12.0</td>\n",
       "      <td>99.0</td>\n",
       "      <td>42.285714</td>\n",
       "      <td>7</td>\n",
       "    </tr>\n",
       "    <tr>\n",
       "      <th>1</th>\n",
       "      <td>6.049868e+06</td>\n",
       "      <td>4.502334e+06</td>\n",
       "      <td>4.0</td>\n",
       "      <td>95.0</td>\n",
       "      <td>36.100000</td>\n",
       "      <td>10</td>\n",
       "    </tr>\n",
       "    <tr>\n",
       "      <th>2</th>\n",
       "      <td>6.050470e+06</td>\n",
       "      <td>4.502450e+06</td>\n",
       "      <td>1.0</td>\n",
       "      <td>81.0</td>\n",
       "      <td>25.800000</td>\n",
       "      <td>5</td>\n",
       "    </tr>\n",
       "    <tr>\n",
       "      <th>3</th>\n",
       "      <td>6.050517e+06</td>\n",
       "      <td>4.502125e+06</td>\n",
       "      <td>2.0</td>\n",
       "      <td>87.0</td>\n",
       "      <td>22.857143</td>\n",
       "      <td>7</td>\n",
       "    </tr>\n",
       "    <tr>\n",
       "      <th>4</th>\n",
       "      <td>6.051559e+06</td>\n",
       "      <td>4.501431e+06</td>\n",
       "      <td>3.0</td>\n",
       "      <td>97.0</td>\n",
       "      <td>31.500000</td>\n",
       "      <td>10</td>\n",
       "    </tr>\n",
       "  </tbody>\n",
       "</table>\n",
       "</div>"
      ],
      "text/plain": [
       "              x             y  min.cover  max.cover  mean.cover  count\n",
       "0  6.048663e+06  4.502820e+06       12.0       99.0   42.285714      7\n",
       "1  6.049868e+06  4.502334e+06        4.0       95.0   36.100000     10\n",
       "2  6.050470e+06  4.502450e+06        1.0       81.0   25.800000      5\n",
       "3  6.050517e+06  4.502125e+06        2.0       87.0   22.857143      7\n",
       "4  6.051559e+06  4.501431e+06        3.0       97.0   31.500000     10"
      ]
     },
     "execution_count": 3,
     "metadata": {},
     "output_type": "execute_result"
    }
   ],
   "source": [
    "df.head()"
   ]
  },
  {
   "cell_type": "code",
   "execution_count": 4,
   "id": "5e5e985b",
   "metadata": {},
   "outputs": [
    {
     "name": "stdout",
     "output_type": "stream",
     "text": [
      "<class 'pandas.core.frame.DataFrame'>\n",
      "RangeIndex: 8435 entries, 0 to 8434\n",
      "Data columns (total 6 columns):\n",
      " #   Column      Non-Null Count  Dtype  \n",
      "---  ------      --------------  -----  \n",
      " 0   x           8435 non-null   float64\n",
      " 1   y           8435 non-null   float64\n",
      " 2   min.cover   8435 non-null   float64\n",
      " 3   max.cover   8435 non-null   float64\n",
      " 4   mean.cover  8435 non-null   float64\n",
      " 5   count       8435 non-null   int64  \n",
      "dtypes: float64(5), int64(1)\n",
      "memory usage: 395.5 KB\n"
     ]
    }
   ],
   "source": [
    "df.info()"
   ]
  },
  {
   "cell_type": "code",
   "execution_count": 5,
   "id": "1a7c700c",
   "metadata": {},
   "outputs": [
    {
     "data": {
      "text/plain": [
       "x             0.0\n",
       "y             0.0\n",
       "min.cover     0.0\n",
       "max.cover     0.0\n",
       "mean.cover    0.0\n",
       "count         0.0\n",
       "dtype: float64"
      ]
     },
     "execution_count": 5,
     "metadata": {},
     "output_type": "execute_result"
    }
   ],
   "source": [
    "##check the null percentage\n",
    "df.isna().mean()*100\n"
   ]
  },
  {
   "cell_type": "code",
   "execution_count": 8,
   "id": "95933f39",
   "metadata": {},
   "outputs": [
    {
     "data": {
      "text/plain": [
       "96"
      ]
     },
     "execution_count": 8,
     "metadata": {},
     "output_type": "execute_result"
    }
   ],
   "source": [
    "##check the duplicate values\n",
    "df.duplicated().sum()"
   ]
  },
  {
   "cell_type": "code",
   "execution_count": 3,
   "id": "8d3a2617",
   "metadata": {},
   "outputs": [],
   "source": [
    "##delete the duplicate values\n",
    "df=df.drop_duplicates()"
   ]
  },
  {
   "cell_type": "code",
   "execution_count": 5,
   "id": "958c270d",
   "metadata": {},
   "outputs": [
    {
     "data": {
      "text/plain": [
       "0"
      ]
     },
     "execution_count": 5,
     "metadata": {},
     "output_type": "execute_result"
    }
   ],
   "source": [
    "df.duplicated().sum()"
   ]
  },
  {
   "cell_type": "code",
   "execution_count": 11,
   "id": "9a00d46c",
   "metadata": {},
   "outputs": [
    {
     "data": {
      "text/html": [
       "<div>\n",
       "<style scoped>\n",
       "    .dataframe tbody tr th:only-of-type {\n",
       "        vertical-align: middle;\n",
       "    }\n",
       "\n",
       "    .dataframe tbody tr th {\n",
       "        vertical-align: top;\n",
       "    }\n",
       "\n",
       "    .dataframe thead th {\n",
       "        text-align: right;\n",
       "    }\n",
       "</style>\n",
       "<table border=\"1\" class=\"dataframe\">\n",
       "  <thead>\n",
       "    <tr style=\"text-align: right;\">\n",
       "      <th></th>\n",
       "      <th>x</th>\n",
       "      <th>y</th>\n",
       "      <th>min.cover</th>\n",
       "      <th>max.cover</th>\n",
       "      <th>mean.cover</th>\n",
       "      <th>count</th>\n",
       "    </tr>\n",
       "  </thead>\n",
       "  <tbody>\n",
       "    <tr>\n",
       "      <th>4686</th>\n",
       "      <td>316439.119280</td>\n",
       "      <td>4.590511e+06</td>\n",
       "      <td>2.0</td>\n",
       "      <td>100.0</td>\n",
       "      <td>76.231481</td>\n",
       "      <td>108</td>\n",
       "    </tr>\n",
       "    <tr>\n",
       "      <th>7096</th>\n",
       "      <td>257068.577334</td>\n",
       "      <td>4.433327e+06</td>\n",
       "      <td>1.0</td>\n",
       "      <td>100.0</td>\n",
       "      <td>72.145455</td>\n",
       "      <td>55</td>\n",
       "    </tr>\n",
       "  </tbody>\n",
       "</table>\n",
       "</div>"
      ],
      "text/plain": [
       "                  x             y  min.cover  max.cover  mean.cover  count\n",
       "4686  316439.119280  4.590511e+06        2.0      100.0   76.231481    108\n",
       "7096  257068.577334  4.433327e+06        1.0      100.0   72.145455     55"
      ]
     },
     "execution_count": 11,
     "metadata": {},
     "output_type": "execute_result"
    }
   ],
   "source": [
    "df.sample(2)"
   ]
  },
  {
   "cell_type": "code",
   "execution_count": 15,
   "id": "2395928e",
   "metadata": {},
   "outputs": [
    {
     "data": {
      "text/plain": [
       "(<AxesSubplot:>,)"
      ]
     },
     "execution_count": 15,
     "metadata": {},
     "output_type": "execute_result"
    },
    {
     "data": {
      "image/png": "[encoded data removed]",
      "text/plain": [
       "<Figure size 432x288 with 1 Axes>"
      ]
     },
     "metadata": {
      "needs_background": "light"
     },
     "output_type": "display_data"
    }
   ],
   "source": [
    "##check the outliers with boxplot\n",
    "sns.boxplot(data=df.x)"
   ]
  },
  {
   "cell_type": "code",
   "execution_count": 17,
   "id": "cab4ed74",
   "metadata": {},
   "outputs": [
    {
     "data": {
      "text/plain": [
       "<AxesSubplot:>"
      ]
     },
     "execution_count": 17,
     "metadata": {},
     "output_type": "execute_result"
    },
    {
     "data": {
      "image/png": "[encoded data removed]",
      "text/plain": [
       "<Figure size 432x288 with 1 Axes>"
      ]
     },
     "metadata": {
      "needs_background": "light"
     },
     "output_type": "display_data"
    }
   ],
   "source": [
    "sns.boxplot(data=df.y)"
   ]
  },
  {
   "cell_type": "code",
   "execution_count": 20,
   "id": "e23d2671",
   "metadata": {},
   "outputs": [
    {
     "data": {
      "text/plain": [
       "<AxesSubplot:>"
      ]
     },
     "execution_count": 20,
     "metadata": {},
     "output_type": "execute_result"
    },
    {
     "data": {
      "image/png": "[encoded data removed]",
      "text/plain": [
       "<Figure size 432x288 with 1 Axes>"
      ]
     },
     "metadata": {
      "needs_background": "light"
     },
     "output_type": "display_data"
    }
   ],
   "source": [
    "sns.boxplot(data=df['min.cover'])"
   ]
  },
  {
   "cell_type": "code",
   "execution_count": 23,
   "id": "0dee4312",
   "metadata": {},
   "outputs": [
    {
     "data": {
      "text/plain": [
       "<AxesSubplot:>"
      ]
     },
     "execution_count": 23,
     "metadata": {},
     "output_type": "execute_result"
    },
    {
     "data": {
      "image/png": "[encoded data removed]",
      "text/plain": [
       "<Figure size 432x288 with 1 Axes>"
      ]
     },
     "metadata": {
      "needs_background": "light"
     },
     "output_type": "display_data"
    }
   ],
   "source": [
    "sns.boxplot(data=df['mean.cover'])"
   ]
  },
  {
   "cell_type": "code",
   "execution_count": 24,
   "id": "15e0f229",
   "metadata": {},
   "outputs": [
    {
     "data": {
      "text/html": [
       "<div>\n",
       "<style scoped>\n",
       "    .dataframe tbody tr th:only-of-type {\n",
       "        vertical-align: middle;\n",
       "    }\n",
       "\n",
       "    .dataframe tbody tr th {\n",
       "        vertical-align: top;\n",
       "    }\n",
       "\n",
       "    .dataframe thead th {\n",
       "        text-align: right;\n",
       "    }\n",
       "</style>\n",
       "<table border=\"1\" class=\"dataframe\">\n",
       "  <thead>\n",
       "    <tr style=\"text-align: right;\">\n",
       "      <th></th>\n",
       "      <th>count</th>\n",
       "      <th>mean</th>\n",
       "      <th>std</th>\n",
       "      <th>min</th>\n",
       "      <th>25%</th>\n",
       "      <th>50%</th>\n",
       "      <th>75%</th>\n",
       "      <th>max</th>\n",
       "    </tr>\n",
       "  </thead>\n",
       "  <tbody>\n",
       "    <tr>\n",
       "      <th>x</th>\n",
       "      <td>8339.0</td>\n",
       "      <td>5.218733e+05</td>\n",
       "      <td>929352.801965</td>\n",
       "      <td>8.679534e+04</td>\n",
       "      <td>1.927460e+05</td>\n",
       "      <td>2.739381e+05</td>\n",
       "      <td>6.746330e+05</td>\n",
       "      <td>6.087582e+06</td>\n",
       "    </tr>\n",
       "    <tr>\n",
       "      <th>y</th>\n",
       "      <td>8339.0</td>\n",
       "      <td>4.413789e+06</td>\n",
       "      <td>109802.958238</td>\n",
       "      <td>4.142288e+06</td>\n",
       "      <td>4.320774e+06</td>\n",
       "      <td>4.424734e+06</td>\n",
       "      <td>4.492544e+06</td>\n",
       "      <td>4.633598e+06</td>\n",
       "    </tr>\n",
       "    <tr>\n",
       "      <th>min.cover</th>\n",
       "      <td>8339.0</td>\n",
       "      <td>1.606400e+00</td>\n",
       "      <td>2.143156</td>\n",
       "      <td>1.000000e-02</td>\n",
       "      <td>2.000000e-02</td>\n",
       "      <td>1.000000e+00</td>\n",
       "      <td>2.000000e+00</td>\n",
       "      <td>4.200000e+01</td>\n",
       "    </tr>\n",
       "    <tr>\n",
       "      <th>max.cover</th>\n",
       "      <td>8339.0</td>\n",
       "      <td>6.958413e+01</td>\n",
       "      <td>45.107038</td>\n",
       "      <td>5.700000e-01</td>\n",
       "      <td>1.000000e+00</td>\n",
       "      <td>1.000000e+02</td>\n",
       "      <td>1.000000e+02</td>\n",
       "      <td>1.000000e+02</td>\n",
       "    </tr>\n",
       "    <tr>\n",
       "      <th>mean.cover</th>\n",
       "      <td>8339.0</td>\n",
       "      <td>5.038654e+01</td>\n",
       "      <td>34.280639</td>\n",
       "      <td>2.560000e-01</td>\n",
       "      <td>8.284969e-01</td>\n",
       "      <td>6.948936e+01</td>\n",
       "      <td>7.794341e+01</td>\n",
       "      <td>9.215827e+01</td>\n",
       "    </tr>\n",
       "    <tr>\n",
       "      <th>count</th>\n",
       "      <td>8339.0</td>\n",
       "      <td>9.922413e+01</td>\n",
       "      <td>68.991879</td>\n",
       "      <td>1.000000e+00</td>\n",
       "      <td>5.100000e+01</td>\n",
       "      <td>8.500000e+01</td>\n",
       "      <td>1.320000e+02</td>\n",
       "      <td>6.090000e+02</td>\n",
       "    </tr>\n",
       "  </tbody>\n",
       "</table>\n",
       "</div>"
      ],
      "text/plain": [
       "             count          mean            std           min           25%  \\\n",
       "x           8339.0  5.218733e+05  929352.801965  8.679534e+04  1.927460e+05   \n",
       "y           8339.0  4.413789e+06  109802.958238  4.142288e+06  4.320774e+06   \n",
       "min.cover   8339.0  1.606400e+00       2.143156  1.000000e-02  2.000000e-02   \n",
       "max.cover   8339.0  6.958413e+01      45.107038  5.700000e-01  1.000000e+00   \n",
       "mean.cover  8339.0  5.038654e+01      34.280639  2.560000e-01  8.284969e-01   \n",
       "count       8339.0  9.922413e+01      68.991879  1.000000e+00  5.100000e+01   \n",
       "\n",
       "                     50%           75%           max  \n",
       "x           2.739381e+05  6.746330e+05  6.087582e+06  \n",
       "y           4.424734e+06  4.492544e+06  4.633598e+06  \n",
       "min.cover   1.000000e+00  2.000000e+00  4.200000e+01  \n",
       "max.cover   1.000000e+02  1.000000e+02  1.000000e+02  \n",
       "mean.cover  6.948936e+01  7.794341e+01  9.215827e+01  \n",
       "count       8.500000e+01  1.320000e+02  6.090000e+02  "
      ]
     },
     "execution_count": 24,
     "metadata": {},
     "output_type": "execute_result"
    }
   ],
   "source": [
    "df.describe().T"
   ]
  },
  {
   "cell_type": "code",
   "execution_count": 6,
   "id": "e6c7a29d",
   "metadata": {},
   "outputs": [],
   "source": [
    "##delete the out liers in min.cover\n",
    "\n",
    "from scipy import stats\n",
    "z=np.abs(stats.zscore(df['min.cover']))"
   ]
  },
  {
   "cell_type": "code",
   "execution_count": 7,
   "id": "eb23f116",
   "metadata": {},
   "outputs": [
    {
     "data": {
      "text/plain": [
       "121"
      ]
     },
     "execution_count": 7,
     "metadata": {},
     "output_type": "execute_result"
    }
   ],
   "source": [
    "(z>3).sum()"
   ]
  },
  {
   "cell_type": "code",
   "execution_count": 8,
   "id": "b1b00d92",
   "metadata": {},
   "outputs": [],
   "source": [
    "out_lier=np.where(z>3)"
   ]
  },
  {
   "cell_type": "code",
   "execution_count": 33,
   "id": "c915962a",
   "metadata": {},
   "outputs": [
    {
     "data": {
      "text/plain": [
       "array([   0,   11,   32,   34,   37,   38,   41,   42,   43,   45,   49,\n",
       "         53,   54,   58,   73,   74,   76,   81,   84,   85,   96,  101,\n",
       "        108,  110,  117,  126,  129,  144,  149,  162,  212,  232,  261,\n",
       "        300,  324,  341,  382,  424,  455,  507,  628,  778,  804,  859,\n",
       "        958,  960,  964,  985, 1069, 1070, 1082, 1113, 1157, 1159, 1175,\n",
       "       1192, 1210, 1254, 1259, 1266, 1269, 1356, 1371, 1445, 1490, 1499,\n",
       "       1520, 1556, 1560, 1565, 1570, 1575, 1576, 1577, 1591, 1592, 1596,\n",
       "       1656, 1703, 1726, 1751, 1770, 1796, 1871, 1881, 1884, 1887, 1888,\n",
       "       1890, 1901, 1926, 1995, 5261, 5580, 5582, 5594, 5595, 5611, 5622,\n",
       "       6129, 6132, 6392, 6534, 6535, 6642, 6812, 6947, 7098, 7299, 7503,\n",
       "       7513, 7651, 7879, 7943, 8105, 8154, 8182, 8187, 8225, 8229, 8318],\n",
       "      dtype=int64)"
      ]
     },
     "execution_count": 33,
     "metadata": {},
     "output_type": "execute_result"
    }
   ],
   "source": [
    "out_lier[0]"
   ]
  },
  {
   "cell_type": "code",
   "execution_count": 9,
   "id": "824b7a8b",
   "metadata": {},
   "outputs": [],
   "source": [
    "###drop the outliers\n",
    "df=df.drop(df.index[out_lier[0]])"
   ]
  },
  {
   "cell_type": "code",
   "execution_count": 40,
   "id": "3417add5",
   "metadata": {},
   "outputs": [
    {
     "data": {
      "text/plain": [
       "0    1.0\n",
       "dtype: float64"
      ]
     },
     "execution_count": 40,
     "metadata": {},
     "output_type": "execute_result"
    }
   ],
   "source": [
    "df['min.cover'].mode()"
   ]
  },
  {
   "cell_type": "code",
   "execution_count": 43,
   "id": "1d391d62",
   "metadata": {},
   "outputs": [
    {
     "data": {
      "text/plain": [
       "x             6.051907e+06\n",
       "y             4.499809e+06\n",
       "min.cover     1.000000e+00\n",
       "max.cover     9.200000e+01\n",
       "mean.cover    2.714286e+01\n",
       "count         7.000000e+00\n",
       "Name: 12, dtype: float64"
      ]
     },
     "execution_count": 43,
     "metadata": {},
     "output_type": "execute_result"
    }
   ],
   "source": [
    "df.loc[12,:]"
   ]
  },
  {
   "cell_type": "code",
   "execution_count": 10,
   "id": "c4c46b55",
   "metadata": {},
   "outputs": [
    {
     "data": {
      "text/html": [
       "<div>\n",
       "<style scoped>\n",
       "    .dataframe tbody tr th:only-of-type {\n",
       "        vertical-align: middle;\n",
       "    }\n",
       "\n",
       "    .dataframe tbody tr th {\n",
       "        vertical-align: top;\n",
       "    }\n",
       "\n",
       "    .dataframe thead th {\n",
       "        text-align: right;\n",
       "    }\n",
       "</style>\n",
       "<table border=\"1\" class=\"dataframe\">\n",
       "  <thead>\n",
       "    <tr style=\"text-align: right;\">\n",
       "      <th></th>\n",
       "      <th>x</th>\n",
       "      <th>y</th>\n",
       "      <th>min.cover</th>\n",
       "      <th>max.cover</th>\n",
       "      <th>mean.cover</th>\n",
       "      <th>count</th>\n",
       "    </tr>\n",
       "  </thead>\n",
       "  <tbody>\n",
       "    <tr>\n",
       "      <th>1</th>\n",
       "      <td>6.049868e+06</td>\n",
       "      <td>4.502334e+06</td>\n",
       "      <td>4.0</td>\n",
       "      <td>95.0</td>\n",
       "      <td>36.100000</td>\n",
       "      <td>10</td>\n",
       "    </tr>\n",
       "    <tr>\n",
       "      <th>2</th>\n",
       "      <td>6.050470e+06</td>\n",
       "      <td>4.502450e+06</td>\n",
       "      <td>1.0</td>\n",
       "      <td>81.0</td>\n",
       "      <td>25.800000</td>\n",
       "      <td>5</td>\n",
       "    </tr>\n",
       "    <tr>\n",
       "      <th>3</th>\n",
       "      <td>6.050517e+06</td>\n",
       "      <td>4.502125e+06</td>\n",
       "      <td>2.0</td>\n",
       "      <td>87.0</td>\n",
       "      <td>22.857143</td>\n",
       "      <td>7</td>\n",
       "    </tr>\n",
       "    <tr>\n",
       "      <th>4</th>\n",
       "      <td>6.051559e+06</td>\n",
       "      <td>4.501431e+06</td>\n",
       "      <td>3.0</td>\n",
       "      <td>97.0</td>\n",
       "      <td>31.500000</td>\n",
       "      <td>10</td>\n",
       "    </tr>\n",
       "    <tr>\n",
       "      <th>5</th>\n",
       "      <td>6.051490e+06</td>\n",
       "      <td>4.501106e+06</td>\n",
       "      <td>7.0</td>\n",
       "      <td>81.0</td>\n",
       "      <td>25.600000</td>\n",
       "      <td>5</td>\n",
       "    </tr>\n",
       "    <tr>\n",
       "      <th>...</th>\n",
       "      <td>...</td>\n",
       "      <td>...</td>\n",
       "      <td>...</td>\n",
       "      <td>...</td>\n",
       "      <td>...</td>\n",
       "      <td>...</td>\n",
       "    </tr>\n",
       "    <tr>\n",
       "      <th>8429</th>\n",
       "      <td>4.792494e+05</td>\n",
       "      <td>4.177046e+06</td>\n",
       "      <td>1.0</td>\n",
       "      <td>100.0</td>\n",
       "      <td>61.428571</td>\n",
       "      <td>35</td>\n",
       "    </tr>\n",
       "    <tr>\n",
       "      <th>8430</th>\n",
       "      <td>4.790687e+05</td>\n",
       "      <td>4.176777e+06</td>\n",
       "      <td>1.0</td>\n",
       "      <td>100.0</td>\n",
       "      <td>76.603960</td>\n",
       "      <td>101</td>\n",
       "    </tr>\n",
       "    <tr>\n",
       "      <th>8431</th>\n",
       "      <td>4.286480e+05</td>\n",
       "      <td>4.143126e+06</td>\n",
       "      <td>3.0</td>\n",
       "      <td>3.0</td>\n",
       "      <td>3.000000</td>\n",
       "      <td>1</td>\n",
       "    </tr>\n",
       "    <tr>\n",
       "      <th>8433</th>\n",
       "      <td>4.291280e+05</td>\n",
       "      <td>4.144041e+06</td>\n",
       "      <td>3.0</td>\n",
       "      <td>4.0</td>\n",
       "      <td>3.500000</td>\n",
       "      <td>2</td>\n",
       "    </tr>\n",
       "    <tr>\n",
       "      <th>8434</th>\n",
       "      <td>4.392122e+05</td>\n",
       "      <td>4.270056e+06</td>\n",
       "      <td>1.0</td>\n",
       "      <td>11.0</td>\n",
       "      <td>7.142857</td>\n",
       "      <td>7</td>\n",
       "    </tr>\n",
       "  </tbody>\n",
       "</table>\n",
       "<p>8218 rows × 6 columns</p>\n",
       "</div>"
      ],
      "text/plain": [
       "                 x             y  min.cover  max.cover  mean.cover  count\n",
       "1     6.049868e+06  4.502334e+06        4.0       95.0   36.100000     10\n",
       "2     6.050470e+06  4.502450e+06        1.0       81.0   25.800000      5\n",
       "3     6.050517e+06  4.502125e+06        2.0       87.0   22.857143      7\n",
       "4     6.051559e+06  4.501431e+06        3.0       97.0   31.500000     10\n",
       "5     6.051490e+06  4.501106e+06        7.0       81.0   25.600000      5\n",
       "...            ...           ...        ...        ...         ...    ...\n",
       "8429  4.792494e+05  4.177046e+06        1.0      100.0   61.428571     35\n",
       "8430  4.790687e+05  4.176777e+06        1.0      100.0   76.603960    101\n",
       "8431  4.286480e+05  4.143126e+06        3.0        3.0    3.000000      1\n",
       "8433  4.291280e+05  4.144041e+06        3.0        4.0    3.500000      2\n",
       "8434  4.392122e+05  4.270056e+06        1.0       11.0    7.142857      7\n",
       "\n",
       "[8218 rows x 6 columns]"
      ]
     },
     "execution_count": 10,
     "metadata": {},
     "output_type": "execute_result"
    }
   ],
   "source": [
    "df.reindex()"
   ]
  },
  {
   "cell_type": "code",
   "execution_count": 11,
   "id": "c4a0cd3f",
   "metadata": {},
   "outputs": [],
   "source": [
    "df=df.reset_index()"
   ]
  },
  {
   "cell_type": "code",
   "execution_count": 12,
   "id": "ba7840f7",
   "metadata": {},
   "outputs": [
    {
     "data": {
      "text/plain": [
       "<AxesSubplot:>"
      ]
     },
     "execution_count": 12,
     "metadata": {},
     "output_type": "execute_result"
    },
    {
     "data": {
      "image/png": "[encoded data removed]",
      "text/plain": [
       "<Figure size 432x288 with 1 Axes>"
      ]
     },
     "metadata": {
      "needs_background": "light"
     },
     "output_type": "display_data"
    }
   ],
   "source": [
    "sns.boxplot(data=df['min.cover'])"
   ]
  },
  {
   "cell_type": "code",
   "execution_count": null,
   "id": "85edf86d",
   "metadata": {},
   "outputs": [],
   "source": []
  },
  {
   "cell_type": "code",
   "execution_count": 55,
   "id": "cf7ad82d",
   "metadata": {},
   "outputs": [
    {
     "data": {
      "text/html": [
       "<div>\n",
       "<style scoped>\n",
       "    .dataframe tbody tr th:only-of-type {\n",
       "        vertical-align: middle;\n",
       "    }\n",
       "\n",
       "    .dataframe tbody tr th {\n",
       "        vertical-align: top;\n",
       "    }\n",
       "\n",
       "    .dataframe thead th {\n",
       "        text-align: right;\n",
       "    }\n",
       "</style>\n",
       "<table border=\"1\" class=\"dataframe\">\n",
       "  <thead>\n",
       "    <tr style=\"text-align: right;\">\n",
       "      <th></th>\n",
       "      <th>index</th>\n",
       "      <th>x</th>\n",
       "      <th>y</th>\n",
       "      <th>min.cover</th>\n",
       "      <th>max.cover</th>\n",
       "      <th>mean.cover</th>\n",
       "      <th>count</th>\n",
       "    </tr>\n",
       "  </thead>\n",
       "  <tbody>\n",
       "    <tr>\n",
       "      <th>3413</th>\n",
       "      <td>3600</td>\n",
       "      <td>220128.569616</td>\n",
       "      <td>4.323445e+06</td>\n",
       "      <td>0.01</td>\n",
       "      <td>1.0</td>\n",
       "      <td>0.833435</td>\n",
       "      <td>131</td>\n",
       "    </tr>\n",
       "    <tr>\n",
       "      <th>7714</th>\n",
       "      <td>7921</td>\n",
       "      <td>109816.490293</td>\n",
       "      <td>4.450206e+06</td>\n",
       "      <td>1.00</td>\n",
       "      <td>100.0</td>\n",
       "      <td>76.978723</td>\n",
       "      <td>94</td>\n",
       "    </tr>\n",
       "    <tr>\n",
       "      <th>3494</th>\n",
       "      <td>3681</td>\n",
       "      <td>221365.338656</td>\n",
       "      <td>4.327661e+06</td>\n",
       "      <td>0.03</td>\n",
       "      <td>1.0</td>\n",
       "      <td>0.699070</td>\n",
       "      <td>43</td>\n",
       "    </tr>\n",
       "    <tr>\n",
       "      <th>2257</th>\n",
       "      <td>2444</td>\n",
       "      <td>188068.448044</td>\n",
       "      <td>4.333293e+06</td>\n",
       "      <td>0.03</td>\n",
       "      <td>1.0</td>\n",
       "      <td>0.772593</td>\n",
       "      <td>81</td>\n",
       "    </tr>\n",
       "    <tr>\n",
       "      <th>7235</th>\n",
       "      <td>7439</td>\n",
       "      <td>303540.740013</td>\n",
       "      <td>4.323442e+06</td>\n",
       "      <td>2.00</td>\n",
       "      <td>100.0</td>\n",
       "      <td>71.192982</td>\n",
       "      <td>57</td>\n",
       "    </tr>\n",
       "  </tbody>\n",
       "</table>\n",
       "</div>"
      ],
      "text/plain": [
       "      index              x             y  min.cover  max.cover  mean.cover  \\\n",
       "3413   3600  220128.569616  4.323445e+06       0.01        1.0    0.833435   \n",
       "7714   7921  109816.490293  4.450206e+06       1.00      100.0   76.978723   \n",
       "3494   3681  221365.338656  4.327661e+06       0.03        1.0    0.699070   \n",
       "2257   2444  188068.448044  4.333293e+06       0.03        1.0    0.772593   \n",
       "7235   7439  303540.740013  4.323442e+06       2.00      100.0   71.192982   \n",
       "\n",
       "      count  \n",
       "3413    131  \n",
       "7714     94  \n",
       "3494     43  \n",
       "2257     81  \n",
       "7235     57  "
      ]
     },
     "execution_count": 55,
     "metadata": {},
     "output_type": "execute_result"
    }
   ],
   "source": [
    "df.sample(5)"
   ]
  },
  {
   "cell_type": "code",
   "execution_count": 56,
   "id": "925790bc",
   "metadata": {},
   "outputs": [
    {
     "data": {
      "text/html": [
       "<div>\n",
       "<style scoped>\n",
       "    .dataframe tbody tr th:only-of-type {\n",
       "        vertical-align: middle;\n",
       "    }\n",
       "\n",
       "    .dataframe tbody tr th {\n",
       "        vertical-align: top;\n",
       "    }\n",
       "\n",
       "    .dataframe thead th {\n",
       "        text-align: right;\n",
       "    }\n",
       "</style>\n",
       "<table border=\"1\" class=\"dataframe\">\n",
       "  <thead>\n",
       "    <tr style=\"text-align: right;\">\n",
       "      <th></th>\n",
       "      <th>index</th>\n",
       "      <th>x</th>\n",
       "      <th>y</th>\n",
       "      <th>min.cover</th>\n",
       "      <th>max.cover</th>\n",
       "      <th>mean.cover</th>\n",
       "      <th>count</th>\n",
       "    </tr>\n",
       "  </thead>\n",
       "  <tbody>\n",
       "    <tr>\n",
       "      <th>8213</th>\n",
       "      <td>8429</td>\n",
       "      <td>479249.384219</td>\n",
       "      <td>4.177046e+06</td>\n",
       "      <td>1.0</td>\n",
       "      <td>100.0</td>\n",
       "      <td>61.428571</td>\n",
       "      <td>35</td>\n",
       "    </tr>\n",
       "    <tr>\n",
       "      <th>8214</th>\n",
       "      <td>8430</td>\n",
       "      <td>479068.747727</td>\n",
       "      <td>4.176777e+06</td>\n",
       "      <td>1.0</td>\n",
       "      <td>100.0</td>\n",
       "      <td>76.603960</td>\n",
       "      <td>101</td>\n",
       "    </tr>\n",
       "    <tr>\n",
       "      <th>8215</th>\n",
       "      <td>8431</td>\n",
       "      <td>428647.955648</td>\n",
       "      <td>4.143126e+06</td>\n",
       "      <td>3.0</td>\n",
       "      <td>3.0</td>\n",
       "      <td>3.000000</td>\n",
       "      <td>1</td>\n",
       "    </tr>\n",
       "    <tr>\n",
       "      <th>8216</th>\n",
       "      <td>8433</td>\n",
       "      <td>429127.955648</td>\n",
       "      <td>4.144041e+06</td>\n",
       "      <td>3.0</td>\n",
       "      <td>4.0</td>\n",
       "      <td>3.500000</td>\n",
       "      <td>2</td>\n",
       "    </tr>\n",
       "    <tr>\n",
       "      <th>8217</th>\n",
       "      <td>8434</td>\n",
       "      <td>439212.241362</td>\n",
       "      <td>4.270056e+06</td>\n",
       "      <td>1.0</td>\n",
       "      <td>11.0</td>\n",
       "      <td>7.142857</td>\n",
       "      <td>7</td>\n",
       "    </tr>\n",
       "  </tbody>\n",
       "</table>\n",
       "</div>"
      ],
      "text/plain": [
       "      index              x             y  min.cover  max.cover  mean.cover  \\\n",
       "8213   8429  479249.384219  4.177046e+06        1.0      100.0   61.428571   \n",
       "8214   8430  479068.747727  4.176777e+06        1.0      100.0   76.603960   \n",
       "8215   8431  428647.955648  4.143126e+06        3.0        3.0    3.000000   \n",
       "8216   8433  429127.955648  4.144041e+06        3.0        4.0    3.500000   \n",
       "8217   8434  439212.241362  4.270056e+06        1.0       11.0    7.142857   \n",
       "\n",
       "      count  \n",
       "8213     35  \n",
       "8214    101  \n",
       "8215      1  \n",
       "8216      2  \n",
       "8217      7  "
      ]
     },
     "execution_count": 56,
     "metadata": {},
     "output_type": "execute_result"
    }
   ],
   "source": [
    "df.tail(5)"
   ]
  },
  {
   "cell_type": "code",
   "execution_count": 57,
   "id": "47cbbea6",
   "metadata": {},
   "outputs": [
    {
     "name": "stdout",
     "output_type": "stream",
     "text": [
      "<class 'pandas.core.frame.DataFrame'>\n",
      "RangeIndex: 8218 entries, 0 to 8217\n",
      "Data columns (total 7 columns):\n",
      " #   Column      Non-Null Count  Dtype  \n",
      "---  ------      --------------  -----  \n",
      " 0   index       8218 non-null   int64  \n",
      " 1   x           8218 non-null   float64\n",
      " 2   y           8218 non-null   float64\n",
      " 3   min.cover   8218 non-null   float64\n",
      " 4   max.cover   8218 non-null   float64\n",
      " 5   mean.cover  8218 non-null   float64\n",
      " 6   count       8218 non-null   int64  \n",
      "dtypes: float64(5), int64(2)\n",
      "memory usage: 449.5 KB\n"
     ]
    }
   ],
   "source": [
    "df.info()"
   ]
  },
  {
   "cell_type": "code",
   "execution_count": 13,
   "id": "1a0e32a2",
   "metadata": {},
   "outputs": [],
   "source": [
    "df=df.drop('index',axis=1)"
   ]
  },
  {
   "cell_type": "code",
   "execution_count": 59,
   "id": "11bca746",
   "metadata": {},
   "outputs": [
    {
     "data": {
      "text/html": [
       "<div>\n",
       "<style scoped>\n",
       "    .dataframe tbody tr th:only-of-type {\n",
       "        vertical-align: middle;\n",
       "    }\n",
       "\n",
       "    .dataframe tbody tr th {\n",
       "        vertical-align: top;\n",
       "    }\n",
       "\n",
       "    .dataframe thead th {\n",
       "        text-align: right;\n",
       "    }\n",
       "</style>\n",
       "<table border=\"1\" class=\"dataframe\">\n",
       "  <thead>\n",
       "    <tr style=\"text-align: right;\">\n",
       "      <th></th>\n",
       "      <th>x</th>\n",
       "      <th>y</th>\n",
       "      <th>min.cover</th>\n",
       "      <th>max.cover</th>\n",
       "      <th>mean.cover</th>\n",
       "      <th>count</th>\n",
       "    </tr>\n",
       "  </thead>\n",
       "  <tbody>\n",
       "    <tr>\n",
       "      <th>7611</th>\n",
       "      <td>241163.850061</td>\n",
       "      <td>4.433865e+06</td>\n",
       "      <td>2.00</td>\n",
       "      <td>100.0</td>\n",
       "      <td>80.909091</td>\n",
       "      <td>99</td>\n",
       "    </tr>\n",
       "    <tr>\n",
       "      <th>4010</th>\n",
       "      <td>256084.334984</td>\n",
       "      <td>4.297745e+06</td>\n",
       "      <td>0.01</td>\n",
       "      <td>1.0</td>\n",
       "      <td>0.587895</td>\n",
       "      <td>38</td>\n",
       "    </tr>\n",
       "    <tr>\n",
       "      <th>945</th>\n",
       "      <td>670989.107143</td>\n",
       "      <td>4.487492e+06</td>\n",
       "      <td>4.00</td>\n",
       "      <td>100.0</td>\n",
       "      <td>66.678571</td>\n",
       "      <td>56</td>\n",
       "    </tr>\n",
       "    <tr>\n",
       "      <th>5770</th>\n",
       "      <td>192285.213697</td>\n",
       "      <td>4.324263e+06</td>\n",
       "      <td>1.00</td>\n",
       "      <td>100.0</td>\n",
       "      <td>56.538462</td>\n",
       "      <td>26</td>\n",
       "    </tr>\n",
       "    <tr>\n",
       "      <th>4643</th>\n",
       "      <td>293971.621576</td>\n",
       "      <td>4.598931e+06</td>\n",
       "      <td>1.00</td>\n",
       "      <td>100.0</td>\n",
       "      <td>76.033058</td>\n",
       "      <td>121</td>\n",
       "    </tr>\n",
       "  </tbody>\n",
       "</table>\n",
       "</div>"
      ],
      "text/plain": [
       "                  x             y  min.cover  max.cover  mean.cover  count\n",
       "7611  241163.850061  4.433865e+06       2.00      100.0   80.909091     99\n",
       "4010  256084.334984  4.297745e+06       0.01        1.0    0.587895     38\n",
       "945   670989.107143  4.487492e+06       4.00      100.0   66.678571     56\n",
       "5770  192285.213697  4.324263e+06       1.00      100.0   56.538462     26\n",
       "4643  293971.621576  4.598931e+06       1.00      100.0   76.033058    121"
      ]
     },
     "execution_count": 59,
     "metadata": {},
     "output_type": "execute_result"
    }
   ],
   "source": [
    "df.sample(5)"
   ]
  },
  {
   "cell_type": "code",
   "execution_count": 60,
   "id": "275108bd",
   "metadata": {},
   "outputs": [
    {
     "data": {
      "text/html": [
       "<div>\n",
       "<style scoped>\n",
       "    .dataframe tbody tr th:only-of-type {\n",
       "        vertical-align: middle;\n",
       "    }\n",
       "\n",
       "    .dataframe tbody tr th {\n",
       "        vertical-align: top;\n",
       "    }\n",
       "\n",
       "    .dataframe thead th {\n",
       "        text-align: right;\n",
       "    }\n",
       "</style>\n",
       "<table border=\"1\" class=\"dataframe\">\n",
       "  <thead>\n",
       "    <tr style=\"text-align: right;\">\n",
       "      <th></th>\n",
       "      <th>x</th>\n",
       "      <th>y</th>\n",
       "      <th>min.cover</th>\n",
       "      <th>max.cover</th>\n",
       "      <th>mean.cover</th>\n",
       "      <th>count</th>\n",
       "    </tr>\n",
       "  </thead>\n",
       "  <tbody>\n",
       "    <tr>\n",
       "      <th>8212</th>\n",
       "      <td>479325.455648</td>\n",
       "      <td>4.177112e+06</td>\n",
       "      <td>1.0</td>\n",
       "      <td>73.0</td>\n",
       "      <td>32.875000</td>\n",
       "      <td>8</td>\n",
       "    </tr>\n",
       "    <tr>\n",
       "      <th>8213</th>\n",
       "      <td>479249.384219</td>\n",
       "      <td>4.177046e+06</td>\n",
       "      <td>1.0</td>\n",
       "      <td>100.0</td>\n",
       "      <td>61.428571</td>\n",
       "      <td>35</td>\n",
       "    </tr>\n",
       "    <tr>\n",
       "      <th>8214</th>\n",
       "      <td>479068.747727</td>\n",
       "      <td>4.176777e+06</td>\n",
       "      <td>1.0</td>\n",
       "      <td>100.0</td>\n",
       "      <td>76.603960</td>\n",
       "      <td>101</td>\n",
       "    </tr>\n",
       "    <tr>\n",
       "      <th>8215</th>\n",
       "      <td>428647.955648</td>\n",
       "      <td>4.143126e+06</td>\n",
       "      <td>3.0</td>\n",
       "      <td>3.0</td>\n",
       "      <td>3.000000</td>\n",
       "      <td>1</td>\n",
       "    </tr>\n",
       "    <tr>\n",
       "      <th>8216</th>\n",
       "      <td>429127.955648</td>\n",
       "      <td>4.144041e+06</td>\n",
       "      <td>3.0</td>\n",
       "      <td>4.0</td>\n",
       "      <td>3.500000</td>\n",
       "      <td>2</td>\n",
       "    </tr>\n",
       "    <tr>\n",
       "      <th>8217</th>\n",
       "      <td>439212.241362</td>\n",
       "      <td>4.270056e+06</td>\n",
       "      <td>1.0</td>\n",
       "      <td>11.0</td>\n",
       "      <td>7.142857</td>\n",
       "      <td>7</td>\n",
       "    </tr>\n",
       "  </tbody>\n",
       "</table>\n",
       "</div>"
      ],
      "text/plain": [
       "                  x             y  min.cover  max.cover  mean.cover  count\n",
       "8212  479325.455648  4.177112e+06        1.0       73.0   32.875000      8\n",
       "8213  479249.384219  4.177046e+06        1.0      100.0   61.428571     35\n",
       "8214  479068.747727  4.176777e+06        1.0      100.0   76.603960    101\n",
       "8215  428647.955648  4.143126e+06        3.0        3.0    3.000000      1\n",
       "8216  429127.955648  4.144041e+06        3.0        4.0    3.500000      2\n",
       "8217  439212.241362  4.270056e+06        1.0       11.0    7.142857      7"
      ]
     },
     "execution_count": 60,
     "metadata": {},
     "output_type": "execute_result"
    }
   ],
   "source": [
    "df.tail(6)"
   ]
  },
  {
   "cell_type": "code",
   "execution_count": 61,
   "id": "3636e7f4",
   "metadata": {},
   "outputs": [
    {
     "data": {
      "text/plain": [
       "x             6.052704e+06\n",
       "y             4.499963e+06\n",
       "min.cover     1.000000e+00\n",
       "max.cover     9.900000e+01\n",
       "mean.cover    3.922222e+01\n",
       "count         9.000000e+00\n",
       "Name: 11, dtype: float64"
      ]
     },
     "execution_count": 61,
     "metadata": {},
     "output_type": "execute_result"
    }
   ],
   "source": [
    "df.loc[11,:]"
   ]
  },
  {
   "cell_type": "code",
   "execution_count": 30,
   "id": "ec5f954c",
   "metadata": {},
   "outputs": [],
   "source": [
    "df_1=df.copy()"
   ]
  },
  {
   "cell_type": "code",
   "execution_count": 62,
   "id": "2de5dee4",
   "metadata": {},
   "outputs": [
    {
     "data": {
      "text/plain": [
       "<AxesSubplot:>"
      ]
     },
     "execution_count": 62,
     "metadata": {},
     "output_type": "execute_result"
    },
    {
     "data": {
      "image/png": "[encoded data removed]",
      "text/plain": [
       "<Figure size 432x288 with 2 Axes>"
      ]
     },
     "metadata": {
      "needs_background": "light"
     },
     "output_type": "display_data"
    }
   ],
   "source": [
    "sns.heatmap(data=df.corr(),annot=True)"
   ]
  },
  {
   "cell_type": "code",
   "execution_count": 65,
   "id": "94acf3d7",
   "metadata": {},
   "outputs": [
    {
     "data": {
      "text/plain": [
       "(array([2627., 3190., 1531.,  550.,  196.,   71.,   30.,   14.,    5.,\n",
       "           4.]),\n",
       " array([  1. ,  61.8, 122.6, 183.4, 244.2, 305. , 365.8, 426.6, 487.4,\n",
       "        548.2, 609. ]),\n",
       " <BarContainer object of 10 artists>)"
      ]
     },
     "execution_count": 65,
     "metadata": {},
     "output_type": "execute_result"
    },
    {
     "data": {
      "image/png": "[encoded data removed]",
      "text/plain": [
       "<Figure size 432x288 with 1 Axes>"
      ]
     },
     "metadata": {
      "needs_background": "light"
     },
     "output_type": "display_data"
    }
   ],
   "source": [
    "plt.hist(df['count'])"
   ]
  },
  {
   "cell_type": "code",
   "execution_count": 119,
   "id": "46ef937d",
   "metadata": {},
   "outputs": [
    {
     "data": {
      "text/html": [
       "<div>\n",
       "<style scoped>\n",
       "    .dataframe tbody tr th:only-of-type {\n",
       "        vertical-align: middle;\n",
       "    }\n",
       "\n",
       "    .dataframe tbody tr th {\n",
       "        vertical-align: top;\n",
       "    }\n",
       "\n",
       "    .dataframe thead th {\n",
       "        text-align: right;\n",
       "    }\n",
       "</style>\n",
       "<table border=\"1\" class=\"dataframe\">\n",
       "  <thead>\n",
       "    <tr style=\"text-align: right;\">\n",
       "      <th></th>\n",
       "      <th>x</th>\n",
       "      <th>y</th>\n",
       "      <th>min.cover</th>\n",
       "      <th>max.cover</th>\n",
       "      <th>mean.cover</th>\n",
       "      <th>count</th>\n",
       "    </tr>\n",
       "  </thead>\n",
       "  <tbody>\n",
       "    <tr>\n",
       "      <th>3662</th>\n",
       "      <td>223497.986971</td>\n",
       "      <td>4.329100e+06</td>\n",
       "      <td>0.05</td>\n",
       "      <td>1.0</td>\n",
       "      <td>0.797959</td>\n",
       "      <td>98</td>\n",
       "    </tr>\n",
       "    <tr>\n",
       "      <th>3418</th>\n",
       "      <td>219251.794149</td>\n",
       "      <td>4.322943e+06</td>\n",
       "      <td>0.01</td>\n",
       "      <td>1.0</td>\n",
       "      <td>0.668621</td>\n",
       "      <td>58</td>\n",
       "    </tr>\n",
       "    <tr>\n",
       "      <th>1511</th>\n",
       "      <td>699375.000000</td>\n",
       "      <td>4.491720e+06</td>\n",
       "      <td>6.00</td>\n",
       "      <td>100.0</td>\n",
       "      <td>81.568182</td>\n",
       "      <td>44</td>\n",
       "    </tr>\n",
       "    <tr>\n",
       "      <th>7779</th>\n",
       "      <td>100753.984189</td>\n",
       "      <td>4.433890e+06</td>\n",
       "      <td>1.00</td>\n",
       "      <td>100.0</td>\n",
       "      <td>80.942623</td>\n",
       "      <td>122</td>\n",
       "    </tr>\n",
       "    <tr>\n",
       "      <th>330</th>\n",
       "      <td>728340.000000</td>\n",
       "      <td>4.502750e+06</td>\n",
       "      <td>2.00</td>\n",
       "      <td>100.0</td>\n",
       "      <td>85.380000</td>\n",
       "      <td>200</td>\n",
       "    </tr>\n",
       "  </tbody>\n",
       "</table>\n",
       "</div>"
      ],
      "text/plain": [
       "                  x             y  min.cover  max.cover  mean.cover  count\n",
       "3662  223497.986971  4.329100e+06       0.05        1.0    0.797959     98\n",
       "3418  219251.794149  4.322943e+06       0.01        1.0    0.668621     58\n",
       "1511  699375.000000  4.491720e+06       6.00      100.0   81.568182     44\n",
       "7779  100753.984189  4.433890e+06       1.00      100.0   80.942623    122\n",
       "330   728340.000000  4.502750e+06       2.00      100.0   85.380000    200"
      ]
     },
     "execution_count": 119,
     "metadata": {},
     "output_type": "execute_result"
    }
   ],
   "source": [
    "df.sample(5)"
   ]
  },
  {
   "cell_type": "code",
   "execution_count": 14,
   "id": "0348f8a3",
   "metadata": {},
   "outputs": [],
   "source": [
    "###separate the dependent and independent variables\n",
    "X=df.drop('count',axis=1)\n",
    "y=df['count'].values"
   ]
  },
  {
   "cell_type": "code",
   "execution_count": 15,
   "id": "88e9756a",
   "metadata": {},
   "outputs": [],
   "source": [
    "####resample the data\n",
    "from imblearn.over_sampling import RandomOverSampler\n",
    "ros=RandomOverSampler()\n",
    "X,y=ros.fit_resample(X,y)"
   ]
  },
  {
   "cell_type": "code",
   "execution_count": null,
   "id": "5f32a150",
   "metadata": {},
   "outputs": [],
   "source": []
  },
  {
   "cell_type": "code",
   "execution_count": 16,
   "id": "320a7632",
   "metadata": {},
   "outputs": [],
   "source": [
    "##split the data into train and test data\n",
    "from sklearn.model_selection import train_test_split\n",
    "X_train,X_test,y_train,y_test=train_test_split(X,y,test_size=0.3,random_state=58)"
   ]
  },
  {
   "cell_type": "code",
   "execution_count": 17,
   "id": "fb753c34",
   "metadata": {},
   "outputs": [],
   "source": [
    "from sklearn.metrics import confusion_matrix,classification_report,accuracy_score"
   ]
  },
  {
   "cell_type": "code",
   "execution_count": 18,
   "id": "a2f9ee5e",
   "metadata": {},
   "outputs": [
    {
     "data": {
      "text/plain": [
       "RandomForestClassifier()"
      ]
     },
     "execution_count": 18,
     "metadata": {},
     "output_type": "execute_result"
    }
   ],
   "source": [
    "###random forest model\n",
    "from sklearn.ensemble import RandomForestClassifier\n",
    "rf=RandomForestClassifier()\n",
    "rf.fit(X_train,y_train)"
   ]
  },
  {
   "cell_type": "code",
   "execution_count": null,
   "id": "5f52f0b6",
   "metadata": {},
   "outputs": [],
   "source": []
  },
  {
   "cell_type": "code",
   "execution_count": 19,
   "id": "c791baab",
   "metadata": {},
   "outputs": [],
   "source": [
    "###predict the test values\n",
    "y_predict=rf.predict(X_test)"
   ]
  },
  {
   "cell_type": "code",
   "execution_count": null,
   "id": "ab97f3a6",
   "metadata": {},
   "outputs": [],
   "source": []
  },
  {
   "cell_type": "code",
   "execution_count": 20,
   "id": "3648d966",
   "metadata": {},
   "outputs": [
    {
     "data": {
      "text/plain": [
       "0.8213796253997259"
      ]
     },
     "execution_count": 20,
     "metadata": {},
     "output_type": "execute_result"
    }
   ],
   "source": [
    "##check the model performance\n",
    "accuracy_score(y_test,y_predict)"
   ]
  },
  {
   "cell_type": "code",
   "execution_count": null,
   "id": "190374d2",
   "metadata": {},
   "outputs": [],
   "source": []
  },
  {
   "cell_type": "code",
   "execution_count": 21,
   "id": "388f0370",
   "metadata": {},
   "outputs": [
    {
     "data": {
      "text/plain": [
       "394"
      ]
     },
     "execution_count": 21,
     "metadata": {},
     "output_type": "execute_result"
    }
   ],
   "source": [
    "###actul value ###\n",
    "y_test[250]"
   ]
  },
  {
   "cell_type": "code",
   "execution_count": null,
   "id": "48d87d45",
   "metadata": {},
   "outputs": [],
   "source": []
  },
  {
   "cell_type": "code",
   "execution_count": 22,
   "id": "c1f48531",
   "metadata": {},
   "outputs": [
    {
     "data": {
      "text/plain": [
       "394"
      ]
     },
     "execution_count": 22,
     "metadata": {},
     "output_type": "execute_result"
    }
   ],
   "source": [
    "###predicted value####\n",
    "y_predict[250]"
   ]
  },
  {
   "cell_type": "code",
   "execution_count": null,
   "id": "2859b2cf",
   "metadata": {},
   "outputs": [],
   "source": []
  },
  {
   "cell_type": "code",
   "execution_count": 25,
   "id": "ad3722ee",
   "metadata": {},
   "outputs": [
    {
     "data": {
      "text/plain": [
       "363"
      ]
     },
     "execution_count": 25,
     "metadata": {},
     "output_type": "execute_result"
    }
   ],
   "source": [
    "y_test[630]"
   ]
  },
  {
   "cell_type": "code",
   "execution_count": 26,
   "id": "ac7b1d59",
   "metadata": {},
   "outputs": [
    {
     "data": {
      "text/plain": [
       "363"
      ]
     },
     "execution_count": 26,
     "metadata": {},
     "output_type": "execute_result"
    }
   ],
   "source": [
    "y_predict[630]"
   ]
  },
  {
   "cell_type": "code",
   "execution_count": null,
   "id": "61b872fe",
   "metadata": {},
   "outputs": [],
   "source": []
  },
  {
   "cell_type": "code",
   "execution_count": null,
   "id": "1e0064f4",
   "metadata": {},
   "outputs": [],
   "source": []
  },
  {
   "cell_type": "code",
   "execution_count": null,
   "id": "63bd64a7",
   "metadata": {},
   "outputs": [],
   "source": []
  },
  {
   "cell_type": "code",
   "execution_count": null,
   "id": "ac498769",
   "metadata": {},
   "outputs": [],
   "source": []
  },
  {
   "cell_type": "code",
   "execution_count": null,
   "id": "3d644413",
   "metadata": {},
   "outputs": [],
   "source": []
  },
  {
   "cell_type": "code",
   "execution_count": null,
   "id": "f1215a50",
   "metadata": {},
   "outputs": [],
   "source": []
  },
  {
   "cell_type": "code",
   "execution_count": null,
   "id": "8bdd6314",
   "metadata": {},
   "outputs": [],
   "source": []
  },
  {
   "cell_type": "code",
   "execution_count": null,
   "id": "914b6809",
   "metadata": {},
   "outputs": [],
   "source": []
  },
  {
   "cell_type": "code",
   "execution_count": null,
   "id": "0f22da0c",
   "metadata": {},
   "outputs": [],
   "source": []
  },
  {
   "cell_type": "code",
   "execution_count": null,
   "id": "c9e2190e",
   "metadata": {},
   "outputs": [],
   "source": []
  },
  {
   "cell_type": "code",
   "execution_count": null,
   "id": "cefda55f",
   "metadata": {},
   "outputs": [],
   "source": []
  },
  {
   "cell_type": "code",
   "execution_count": null,
   "id": "a4573b7c",
   "metadata": {},
   "outputs": [],
   "source": []
  },
  {
   "cell_type": "code",
   "execution_count": null,
   "id": "f4bcd4e7",
   "metadata": {},
   "outputs": [],
   "source": []
  },
  {
   "cell_type": "code",
   "execution_count": null,
   "id": "90cbddbf",
   "metadata": {},
   "outputs": [],
   "source": []
  },
  {
   "cell_type": "code",
   "execution_count": null,
   "id": "da45d6ee",
   "metadata": {},
   "outputs": [],
   "source": []
  },
  {
   "cell_type": "code",
   "execution_count": null,
   "id": "4e3300f4",
   "metadata": {},
   "outputs": [],
   "source": []
  },
  {
   "cell_type": "code",
   "execution_count": null,
   "id": "005576b1",
   "metadata": {},
   "outputs": [],
   "source": []
  },
  {
   "cell_type": "code",
   "execution_count": null,
   "id": "65fbacdf",
   "metadata": {},
   "outputs": [],
   "source": []
  },
  {
   "cell_type": "code",
   "execution_count": null,
   "id": "0a2948a0",
   "metadata": {},
   "outputs": [],
   "source": []
  },
  {
   "cell_type": "code",
   "execution_count": null,
   "id": "e0c1d7c0",
   "metadata": {},
   "outputs": [],
   "source": []
  },
  {
   "cell_type": "code",
   "execution_count": null,
   "id": "90c16aa2",
   "metadata": {},
   "outputs": [],
   "source": []
  },
  {
   "cell_type": "code",
   "execution_count": null,
   "id": "f920156b",
   "metadata": {},
   "outputs": [],
   "source": []
  },
  {
   "cell_type": "code",
   "execution_count": null,
   "id": "6c82e219",
   "metadata": {},
   "outputs": [],
   "source": []
  },
  {
   "cell_type": "code",
   "execution_count": null,
   "id": "0ddc4ee9",
   "metadata": {},
   "outputs": [],
   "source": []
  },
  {
   "cell_type": "code",
   "execution_count": null,
   "id": "e0a2c52f",
   "metadata": {},
   "outputs": [],
   "source": []
  },
  {
   "cell_type": "code",
   "execution_count": null,
   "id": "f241fb20",
   "metadata": {},
   "outputs": [],
   "source": []
  },
  {
   "cell_type": "code",
   "execution_count": null,
   "id": "816c3b10",
   "metadata": {},
   "outputs": [],
   "source": []
  },
  {
   "cell_type": "code",
   "execution_count": null,
   "id": "3a106aa1",
   "metadata": {},
   "outputs": [],
   "source": []
  },
  {
   "cell_type": "code",
   "execution_count": null,
   "id": "83243c8a",
   "metadata": {},
   "outputs": [],
   "source": []
  },
  {
   "cell_type": "code",
   "execution_count": null,
   "id": "e90013e2",
   "metadata": {},
   "outputs": [],
   "source": []
  },
  {
   "cell_type": "code",
   "execution_count": null,
   "id": "41e5eea8",
   "metadata": {},
   "outputs": [],
   "source": []
  },
  {
   "cell_type": "code",
   "execution_count": null,
   "id": "adda6aa7",
   "metadata": {},
   "outputs": [],
   "source": []
  }
 ],
 "metadata": {
  "kernelspec": {
   "display_name": "Python 3 (ipykernel)",
   "language": "python",
   "name": "python3"
  },
  "language_info": {
   "codemirror_mode": {
    "name": "ipython",
    "version": 3
   },
   "file_extension": ".py",
   "mimetype": "text/x-python",
   "name": "python",
   "nbconvert_exporter": "python",
   "pygments_lexer": "ipython3",
   "version": "3.9.7"
  }
 },
 "nbformat": 4,
 "nbformat_minor": 5
}
